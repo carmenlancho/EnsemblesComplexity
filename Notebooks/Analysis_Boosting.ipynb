{
 "cells": [
  {
   "metadata": {},
   "cell_type": "markdown",
   "source": "# Analysis of results extracted with Boosting + Complexity Measures",
   "id": "a1f48ffc221033b1"
  },
  {
   "metadata": {},
   "cell_type": "markdown",
   "source": [
    "In this notebook we are going to compare the results (error rate and exponential loss) obtained with the three different options we have tested:\n",
    "* Classic AdaBoost: this implies that weights are initializated with 1/n\n",
    "* Classic AdaBoost b"
   ],
   "id": "3898fc010543a873"
  },
  {
   "metadata": {},
   "cell_type": "code",
   "outputs": [],
   "execution_count": null,
   "source": "",
   "id": "caa1661dc318603b"
  },
  {
   "metadata": {},
   "cell_type": "code",
   "outputs": [],
   "execution_count": null,
   "source": "",
   "id": "4fed93c966b42172"
  },
  {
   "metadata": {},
   "cell_type": "code",
   "outputs": [],
   "execution_count": null,
   "source": "",
   "id": "665b8a90a145257f"
  }
 ],
 "metadata": {
  "kernelspec": {
   "display_name": "Python 3",
   "language": "python",
   "name": "python3"
  },
  "language_info": {
   "codemirror_mode": {
    "name": "ipython",
    "version": 2
   },
   "file_extension": ".py",
   "mimetype": "text/x-python",
   "name": "python",
   "nbconvert_exporter": "python",
   "pygments_lexer": "ipython2",
   "version": "2.7.6"
  }
 },
 "nbformat": 4,
 "nbformat_minor": 5
}
