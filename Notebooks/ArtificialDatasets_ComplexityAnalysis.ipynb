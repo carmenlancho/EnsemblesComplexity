{
 "cells": [
  {
   "cell_type": "markdown",
   "source": [
    "## Artificial datasets and complexity at the instance level"
   ],
   "metadata": {
    "collapsed": false
   }
  },
  {
   "cell_type": "code",
   "execution_count": 1,
   "outputs": [],
   "source": [
    "# Load packages\n",
    "import os\n",
    "import pandas as pd\n",
    "import numpy as np\n",
    "import matplotlib.pyplot as plt\n",
    "import seaborn as sns"
   ],
   "metadata": {
    "collapsed": false,
    "ExecuteTime": {
     "end_time": "2023-10-16T15:26:49.998814822Z",
     "start_time": "2023-10-16T15:26:49.954693948Z"
    }
   }
  },
  {
   "cell_type": "code",
   "execution_count": 2,
   "outputs": [],
   "source": [
    "os.chdir(\"..\") # one level up, parent directory\n",
    "root_path = os.path.abspath(os.curdir)\n",
    "os.chdir(root_path+'/datasets')"
   ],
   "metadata": {
    "collapsed": false,
    "ExecuteTime": {
     "end_time": "2023-10-16T15:26:49.999164951Z",
     "start_time": "2023-10-16T15:26:49.998664969Z"
    }
   }
  },
  {
   "cell_type": "code",
   "execution_count": 3,
   "outputs": [
    {
     "ename": "FileNotFoundError",
     "evalue": "[Errno 2] No such file or directory: 'Data1.csv'",
     "output_type": "error",
     "traceback": [
      "\u001B[0;31m---------------------------------------------------------------------------\u001B[0m",
      "\u001B[0;31mFileNotFoundError\u001B[0m                         Traceback (most recent call last)",
      "Cell \u001B[0;32mIn[3], line 1\u001B[0m\n\u001B[0;32m----> 1\u001B[0m dataset1 \u001B[38;5;241m=\u001B[39m \u001B[43mpd\u001B[49m\u001B[38;5;241;43m.\u001B[39;49m\u001B[43mread_csv\u001B[49m\u001B[43m(\u001B[49m\u001B[38;5;124;43m'\u001B[39;49m\u001B[38;5;124;43mData1.csv\u001B[39;49m\u001B[38;5;124;43m'\u001B[39;49m\u001B[43m)\u001B[49m\n\u001B[1;32m      2\u001B[0m dataset2 \u001B[38;5;241m=\u001B[39m pd\u001B[38;5;241m.\u001B[39mread_csv(\u001B[38;5;124m'\u001B[39m\u001B[38;5;124mData2.csv\u001B[39m\u001B[38;5;124m'\u001B[39m)\n\u001B[1;32m      3\u001B[0m dataset3 \u001B[38;5;241m=\u001B[39m pd\u001B[38;5;241m.\u001B[39mread_csv(\u001B[38;5;124m'\u001B[39m\u001B[38;5;124mData3.csv\u001B[39m\u001B[38;5;124m'\u001B[39m)\n",
      "File \u001B[0;32m~/anaconda3/envs/pyhard/lib/python3.9/site-packages/pandas/util/_decorators.py:211\u001B[0m, in \u001B[0;36mdeprecate_kwarg.<locals>._deprecate_kwarg.<locals>.wrapper\u001B[0;34m(*args, **kwargs)\u001B[0m\n\u001B[1;32m    209\u001B[0m     \u001B[38;5;28;01melse\u001B[39;00m:\n\u001B[1;32m    210\u001B[0m         kwargs[new_arg_name] \u001B[38;5;241m=\u001B[39m new_arg_value\n\u001B[0;32m--> 211\u001B[0m \u001B[38;5;28;01mreturn\u001B[39;00m \u001B[43mfunc\u001B[49m\u001B[43m(\u001B[49m\u001B[38;5;241;43m*\u001B[39;49m\u001B[43margs\u001B[49m\u001B[43m,\u001B[49m\u001B[43m \u001B[49m\u001B[38;5;241;43m*\u001B[39;49m\u001B[38;5;241;43m*\u001B[39;49m\u001B[43mkwargs\u001B[49m\u001B[43m)\u001B[49m\n",
      "File \u001B[0;32m~/anaconda3/envs/pyhard/lib/python3.9/site-packages/pandas/util/_decorators.py:331\u001B[0m, in \u001B[0;36mdeprecate_nonkeyword_arguments.<locals>.decorate.<locals>.wrapper\u001B[0;34m(*args, **kwargs)\u001B[0m\n\u001B[1;32m    325\u001B[0m \u001B[38;5;28;01mif\u001B[39;00m \u001B[38;5;28mlen\u001B[39m(args) \u001B[38;5;241m>\u001B[39m num_allow_args:\n\u001B[1;32m    326\u001B[0m     warnings\u001B[38;5;241m.\u001B[39mwarn(\n\u001B[1;32m    327\u001B[0m         msg\u001B[38;5;241m.\u001B[39mformat(arguments\u001B[38;5;241m=\u001B[39m_format_argument_list(allow_args)),\n\u001B[1;32m    328\u001B[0m         \u001B[38;5;167;01mFutureWarning\u001B[39;00m,\n\u001B[1;32m    329\u001B[0m         stacklevel\u001B[38;5;241m=\u001B[39mfind_stack_level(),\n\u001B[1;32m    330\u001B[0m     )\n\u001B[0;32m--> 331\u001B[0m \u001B[38;5;28;01mreturn\u001B[39;00m \u001B[43mfunc\u001B[49m\u001B[43m(\u001B[49m\u001B[38;5;241;43m*\u001B[39;49m\u001B[43margs\u001B[49m\u001B[43m,\u001B[49m\u001B[43m \u001B[49m\u001B[38;5;241;43m*\u001B[39;49m\u001B[38;5;241;43m*\u001B[39;49m\u001B[43mkwargs\u001B[49m\u001B[43m)\u001B[49m\n",
      "File \u001B[0;32m~/anaconda3/envs/pyhard/lib/python3.9/site-packages/pandas/io/parsers/readers.py:950\u001B[0m, in \u001B[0;36mread_csv\u001B[0;34m(filepath_or_buffer, sep, delimiter, header, names, index_col, usecols, squeeze, prefix, mangle_dupe_cols, dtype, engine, converters, true_values, false_values, skipinitialspace, skiprows, skipfooter, nrows, na_values, keep_default_na, na_filter, verbose, skip_blank_lines, parse_dates, infer_datetime_format, keep_date_col, date_parser, dayfirst, cache_dates, iterator, chunksize, compression, thousands, decimal, lineterminator, quotechar, quoting, doublequote, escapechar, comment, encoding, encoding_errors, dialect, error_bad_lines, warn_bad_lines, on_bad_lines, delim_whitespace, low_memory, memory_map, float_precision, storage_options)\u001B[0m\n\u001B[1;32m    935\u001B[0m kwds_defaults \u001B[38;5;241m=\u001B[39m _refine_defaults_read(\n\u001B[1;32m    936\u001B[0m     dialect,\n\u001B[1;32m    937\u001B[0m     delimiter,\n\u001B[0;32m   (...)\u001B[0m\n\u001B[1;32m    946\u001B[0m     defaults\u001B[38;5;241m=\u001B[39m{\u001B[38;5;124m\"\u001B[39m\u001B[38;5;124mdelimiter\u001B[39m\u001B[38;5;124m\"\u001B[39m: \u001B[38;5;124m\"\u001B[39m\u001B[38;5;124m,\u001B[39m\u001B[38;5;124m\"\u001B[39m},\n\u001B[1;32m    947\u001B[0m )\n\u001B[1;32m    948\u001B[0m kwds\u001B[38;5;241m.\u001B[39mupdate(kwds_defaults)\n\u001B[0;32m--> 950\u001B[0m \u001B[38;5;28;01mreturn\u001B[39;00m \u001B[43m_read\u001B[49m\u001B[43m(\u001B[49m\u001B[43mfilepath_or_buffer\u001B[49m\u001B[43m,\u001B[49m\u001B[43m \u001B[49m\u001B[43mkwds\u001B[49m\u001B[43m)\u001B[49m\n",
      "File \u001B[0;32m~/anaconda3/envs/pyhard/lib/python3.9/site-packages/pandas/io/parsers/readers.py:605\u001B[0m, in \u001B[0;36m_read\u001B[0;34m(filepath_or_buffer, kwds)\u001B[0m\n\u001B[1;32m    602\u001B[0m _validate_names(kwds\u001B[38;5;241m.\u001B[39mget(\u001B[38;5;124m\"\u001B[39m\u001B[38;5;124mnames\u001B[39m\u001B[38;5;124m\"\u001B[39m, \u001B[38;5;28;01mNone\u001B[39;00m))\n\u001B[1;32m    604\u001B[0m \u001B[38;5;66;03m# Create the parser.\u001B[39;00m\n\u001B[0;32m--> 605\u001B[0m parser \u001B[38;5;241m=\u001B[39m \u001B[43mTextFileReader\u001B[49m\u001B[43m(\u001B[49m\u001B[43mfilepath_or_buffer\u001B[49m\u001B[43m,\u001B[49m\u001B[43m \u001B[49m\u001B[38;5;241;43m*\u001B[39;49m\u001B[38;5;241;43m*\u001B[39;49m\u001B[43mkwds\u001B[49m\u001B[43m)\u001B[49m\n\u001B[1;32m    607\u001B[0m \u001B[38;5;28;01mif\u001B[39;00m chunksize \u001B[38;5;129;01mor\u001B[39;00m iterator:\n\u001B[1;32m    608\u001B[0m     \u001B[38;5;28;01mreturn\u001B[39;00m parser\n",
      "File \u001B[0;32m~/anaconda3/envs/pyhard/lib/python3.9/site-packages/pandas/io/parsers/readers.py:1442\u001B[0m, in \u001B[0;36mTextFileReader.__init__\u001B[0;34m(self, f, engine, **kwds)\u001B[0m\n\u001B[1;32m   1439\u001B[0m     \u001B[38;5;28mself\u001B[39m\u001B[38;5;241m.\u001B[39moptions[\u001B[38;5;124m\"\u001B[39m\u001B[38;5;124mhas_index_names\u001B[39m\u001B[38;5;124m\"\u001B[39m] \u001B[38;5;241m=\u001B[39m kwds[\u001B[38;5;124m\"\u001B[39m\u001B[38;5;124mhas_index_names\u001B[39m\u001B[38;5;124m\"\u001B[39m]\n\u001B[1;32m   1441\u001B[0m \u001B[38;5;28mself\u001B[39m\u001B[38;5;241m.\u001B[39mhandles: IOHandles \u001B[38;5;241m|\u001B[39m \u001B[38;5;28;01mNone\u001B[39;00m \u001B[38;5;241m=\u001B[39m \u001B[38;5;28;01mNone\u001B[39;00m\n\u001B[0;32m-> 1442\u001B[0m \u001B[38;5;28mself\u001B[39m\u001B[38;5;241m.\u001B[39m_engine \u001B[38;5;241m=\u001B[39m \u001B[38;5;28;43mself\u001B[39;49m\u001B[38;5;241;43m.\u001B[39;49m\u001B[43m_make_engine\u001B[49m\u001B[43m(\u001B[49m\u001B[43mf\u001B[49m\u001B[43m,\u001B[49m\u001B[43m \u001B[49m\u001B[38;5;28;43mself\u001B[39;49m\u001B[38;5;241;43m.\u001B[39;49m\u001B[43mengine\u001B[49m\u001B[43m)\u001B[49m\n",
      "File \u001B[0;32m~/anaconda3/envs/pyhard/lib/python3.9/site-packages/pandas/io/parsers/readers.py:1735\u001B[0m, in \u001B[0;36mTextFileReader._make_engine\u001B[0;34m(self, f, engine)\u001B[0m\n\u001B[1;32m   1733\u001B[0m     \u001B[38;5;28;01mif\u001B[39;00m \u001B[38;5;124m\"\u001B[39m\u001B[38;5;124mb\u001B[39m\u001B[38;5;124m\"\u001B[39m \u001B[38;5;129;01mnot\u001B[39;00m \u001B[38;5;129;01min\u001B[39;00m mode:\n\u001B[1;32m   1734\u001B[0m         mode \u001B[38;5;241m+\u001B[39m\u001B[38;5;241m=\u001B[39m \u001B[38;5;124m\"\u001B[39m\u001B[38;5;124mb\u001B[39m\u001B[38;5;124m\"\u001B[39m\n\u001B[0;32m-> 1735\u001B[0m \u001B[38;5;28mself\u001B[39m\u001B[38;5;241m.\u001B[39mhandles \u001B[38;5;241m=\u001B[39m \u001B[43mget_handle\u001B[49m\u001B[43m(\u001B[49m\n\u001B[1;32m   1736\u001B[0m \u001B[43m    \u001B[49m\u001B[43mf\u001B[49m\u001B[43m,\u001B[49m\n\u001B[1;32m   1737\u001B[0m \u001B[43m    \u001B[49m\u001B[43mmode\u001B[49m\u001B[43m,\u001B[49m\n\u001B[1;32m   1738\u001B[0m \u001B[43m    \u001B[49m\u001B[43mencoding\u001B[49m\u001B[38;5;241;43m=\u001B[39;49m\u001B[38;5;28;43mself\u001B[39;49m\u001B[38;5;241;43m.\u001B[39;49m\u001B[43moptions\u001B[49m\u001B[38;5;241;43m.\u001B[39;49m\u001B[43mget\u001B[49m\u001B[43m(\u001B[49m\u001B[38;5;124;43m\"\u001B[39;49m\u001B[38;5;124;43mencoding\u001B[39;49m\u001B[38;5;124;43m\"\u001B[39;49m\u001B[43m,\u001B[49m\u001B[43m \u001B[49m\u001B[38;5;28;43;01mNone\u001B[39;49;00m\u001B[43m)\u001B[49m\u001B[43m,\u001B[49m\n\u001B[1;32m   1739\u001B[0m \u001B[43m    \u001B[49m\u001B[43mcompression\u001B[49m\u001B[38;5;241;43m=\u001B[39;49m\u001B[38;5;28;43mself\u001B[39;49m\u001B[38;5;241;43m.\u001B[39;49m\u001B[43moptions\u001B[49m\u001B[38;5;241;43m.\u001B[39;49m\u001B[43mget\u001B[49m\u001B[43m(\u001B[49m\u001B[38;5;124;43m\"\u001B[39;49m\u001B[38;5;124;43mcompression\u001B[39;49m\u001B[38;5;124;43m\"\u001B[39;49m\u001B[43m,\u001B[49m\u001B[43m \u001B[49m\u001B[38;5;28;43;01mNone\u001B[39;49;00m\u001B[43m)\u001B[49m\u001B[43m,\u001B[49m\n\u001B[1;32m   1740\u001B[0m \u001B[43m    \u001B[49m\u001B[43mmemory_map\u001B[49m\u001B[38;5;241;43m=\u001B[39;49m\u001B[38;5;28;43mself\u001B[39;49m\u001B[38;5;241;43m.\u001B[39;49m\u001B[43moptions\u001B[49m\u001B[38;5;241;43m.\u001B[39;49m\u001B[43mget\u001B[49m\u001B[43m(\u001B[49m\u001B[38;5;124;43m\"\u001B[39;49m\u001B[38;5;124;43mmemory_map\u001B[39;49m\u001B[38;5;124;43m\"\u001B[39;49m\u001B[43m,\u001B[49m\u001B[43m \u001B[49m\u001B[38;5;28;43;01mFalse\u001B[39;49;00m\u001B[43m)\u001B[49m\u001B[43m,\u001B[49m\n\u001B[1;32m   1741\u001B[0m \u001B[43m    \u001B[49m\u001B[43mis_text\u001B[49m\u001B[38;5;241;43m=\u001B[39;49m\u001B[43mis_text\u001B[49m\u001B[43m,\u001B[49m\n\u001B[1;32m   1742\u001B[0m \u001B[43m    \u001B[49m\u001B[43merrors\u001B[49m\u001B[38;5;241;43m=\u001B[39;49m\u001B[38;5;28;43mself\u001B[39;49m\u001B[38;5;241;43m.\u001B[39;49m\u001B[43moptions\u001B[49m\u001B[38;5;241;43m.\u001B[39;49m\u001B[43mget\u001B[49m\u001B[43m(\u001B[49m\u001B[38;5;124;43m\"\u001B[39;49m\u001B[38;5;124;43mencoding_errors\u001B[39;49m\u001B[38;5;124;43m\"\u001B[39;49m\u001B[43m,\u001B[49m\u001B[43m \u001B[49m\u001B[38;5;124;43m\"\u001B[39;49m\u001B[38;5;124;43mstrict\u001B[39;49m\u001B[38;5;124;43m\"\u001B[39;49m\u001B[43m)\u001B[49m\u001B[43m,\u001B[49m\n\u001B[1;32m   1743\u001B[0m \u001B[43m    \u001B[49m\u001B[43mstorage_options\u001B[49m\u001B[38;5;241;43m=\u001B[39;49m\u001B[38;5;28;43mself\u001B[39;49m\u001B[38;5;241;43m.\u001B[39;49m\u001B[43moptions\u001B[49m\u001B[38;5;241;43m.\u001B[39;49m\u001B[43mget\u001B[49m\u001B[43m(\u001B[49m\u001B[38;5;124;43m\"\u001B[39;49m\u001B[38;5;124;43mstorage_options\u001B[39;49m\u001B[38;5;124;43m\"\u001B[39;49m\u001B[43m,\u001B[49m\u001B[43m \u001B[49m\u001B[38;5;28;43;01mNone\u001B[39;49;00m\u001B[43m)\u001B[49m\u001B[43m,\u001B[49m\n\u001B[1;32m   1744\u001B[0m \u001B[43m\u001B[49m\u001B[43m)\u001B[49m\n\u001B[1;32m   1745\u001B[0m \u001B[38;5;28;01massert\u001B[39;00m \u001B[38;5;28mself\u001B[39m\u001B[38;5;241m.\u001B[39mhandles \u001B[38;5;129;01mis\u001B[39;00m \u001B[38;5;129;01mnot\u001B[39;00m \u001B[38;5;28;01mNone\u001B[39;00m\n\u001B[1;32m   1746\u001B[0m f \u001B[38;5;241m=\u001B[39m \u001B[38;5;28mself\u001B[39m\u001B[38;5;241m.\u001B[39mhandles\u001B[38;5;241m.\u001B[39mhandle\n",
      "File \u001B[0;32m~/anaconda3/envs/pyhard/lib/python3.9/site-packages/pandas/io/common.py:856\u001B[0m, in \u001B[0;36mget_handle\u001B[0;34m(path_or_buf, mode, encoding, compression, memory_map, is_text, errors, storage_options)\u001B[0m\n\u001B[1;32m    851\u001B[0m \u001B[38;5;28;01melif\u001B[39;00m \u001B[38;5;28misinstance\u001B[39m(handle, \u001B[38;5;28mstr\u001B[39m):\n\u001B[1;32m    852\u001B[0m     \u001B[38;5;66;03m# Check whether the filename is to be opened in binary mode.\u001B[39;00m\n\u001B[1;32m    853\u001B[0m     \u001B[38;5;66;03m# Binary mode does not support 'encoding' and 'newline'.\u001B[39;00m\n\u001B[1;32m    854\u001B[0m     \u001B[38;5;28;01mif\u001B[39;00m ioargs\u001B[38;5;241m.\u001B[39mencoding \u001B[38;5;129;01mand\u001B[39;00m \u001B[38;5;124m\"\u001B[39m\u001B[38;5;124mb\u001B[39m\u001B[38;5;124m\"\u001B[39m \u001B[38;5;129;01mnot\u001B[39;00m \u001B[38;5;129;01min\u001B[39;00m ioargs\u001B[38;5;241m.\u001B[39mmode:\n\u001B[1;32m    855\u001B[0m         \u001B[38;5;66;03m# Encoding\u001B[39;00m\n\u001B[0;32m--> 856\u001B[0m         handle \u001B[38;5;241m=\u001B[39m \u001B[38;5;28;43mopen\u001B[39;49m\u001B[43m(\u001B[49m\n\u001B[1;32m    857\u001B[0m \u001B[43m            \u001B[49m\u001B[43mhandle\u001B[49m\u001B[43m,\u001B[49m\n\u001B[1;32m    858\u001B[0m \u001B[43m            \u001B[49m\u001B[43mioargs\u001B[49m\u001B[38;5;241;43m.\u001B[39;49m\u001B[43mmode\u001B[49m\u001B[43m,\u001B[49m\n\u001B[1;32m    859\u001B[0m \u001B[43m            \u001B[49m\u001B[43mencoding\u001B[49m\u001B[38;5;241;43m=\u001B[39;49m\u001B[43mioargs\u001B[49m\u001B[38;5;241;43m.\u001B[39;49m\u001B[43mencoding\u001B[49m\u001B[43m,\u001B[49m\n\u001B[1;32m    860\u001B[0m \u001B[43m            \u001B[49m\u001B[43merrors\u001B[49m\u001B[38;5;241;43m=\u001B[39;49m\u001B[43merrors\u001B[49m\u001B[43m,\u001B[49m\n\u001B[1;32m    861\u001B[0m \u001B[43m            \u001B[49m\u001B[43mnewline\u001B[49m\u001B[38;5;241;43m=\u001B[39;49m\u001B[38;5;124;43m\"\u001B[39;49m\u001B[38;5;124;43m\"\u001B[39;49m\u001B[43m,\u001B[49m\n\u001B[1;32m    862\u001B[0m \u001B[43m        \u001B[49m\u001B[43m)\u001B[49m\n\u001B[1;32m    863\u001B[0m     \u001B[38;5;28;01melse\u001B[39;00m:\n\u001B[1;32m    864\u001B[0m         \u001B[38;5;66;03m# Binary mode\u001B[39;00m\n\u001B[1;32m    865\u001B[0m         handle \u001B[38;5;241m=\u001B[39m \u001B[38;5;28mopen\u001B[39m(handle, ioargs\u001B[38;5;241m.\u001B[39mmode)\n",
      "\u001B[0;31mFileNotFoundError\u001B[0m: [Errno 2] No such file or directory: 'Data1.csv'"
     ]
    }
   ],
   "source": [
    "\n",
    "dataset1 = pd.read_csv('Data1.csv')\n",
    "dataset2 = pd.read_csv('Data2.csv')\n",
    "dataset3 = pd.read_csv('Data3.csv')\n",
    "dataset4 = pd.read_csv('Data4.csv')\n",
    "dataset5 = pd.read_csv('Data5.csv')\n",
    "dataset6 = pd.read_csv('Data6.csv')\n",
    "dataset7 = pd.read_csv('Data7.csv')\n",
    "dataset8 = pd.read_csv('Data8.csv')\n",
    "dataset9 = pd.read_csv('Data9.csv')\n",
    "dataset10 = pd.read_csv('Data10.csv')\n",
    "dataset11 = pd.read_csv('Data11.csv')\n",
    "dataset12 = pd.read_csv('Data12.csv')\n",
    "dataset13 = pd.read_csv('Data13.csv')"
   ],
   "metadata": {
    "collapsed": false,
    "ExecuteTime": {
     "end_time": "2023-10-16T15:26:50.645646098Z",
     "start_time": "2023-10-16T15:26:49.998972373Z"
    }
   }
  },
  {
   "cell_type": "code",
   "execution_count": null,
   "outputs": [],
   "source": [],
   "metadata": {
    "collapsed": false,
    "ExecuteTime": {
     "end_time": "2023-10-16T15:26:50.694582647Z",
     "start_time": "2023-10-16T15:26:50.646744939Z"
    }
   }
  },
  {
   "cell_type": "code",
   "execution_count": null,
   "outputs": [],
   "source": [
    "fig, axes = plt.subplots(4, 4, figsize=(18, 18))\n",
    "\n",
    "# fig.suptitle('Suptitle')\n",
    "sns.scatterplot(ax=axes[0, 0], data=dataset1,  x='x1', y='x2', hue='y',style = 'y', s=6).set(title='dataset1', xlabel = '', ylabel = '')\n",
    "sns.scatterplot(ax=axes[0, 1], data=dataset2,  x='x1', y='x2', hue='y',style = 'y', s=6).set(title='dataset2', xlabel = '', ylabel = '')\n",
    "sns.scatterplot(ax=axes[0, 2], data=dataset3,  x='x1', y='x2', hue='y',style = 'y', s=6).set(title='dataset3', xlabel = '', ylabel = '')\n",
    "sns.scatterplot(ax=axes[0, 3], data=dataset4,  x='x1', y='x2', hue='y',style = 'y', s=6,palette=[\"C0\", \"C1\", \"k\"]).set(title='dataset4', xlabel = '', ylabel = '')\n",
    "sns.scatterplot(ax=axes[1, 0], data=dataset5,  x='x1', y='x2', hue='y',style = 'y', s=6,palette=[\"C0\", \"C1\", \"k\",'pink','green','gold']).set(title='dataset5', xlabel = '', ylabel = '')\n",
    "sns.scatterplot(ax=axes[1, 1], data=dataset6,  x='x1', y='x2', hue='y',style = 'y', s=6,palette=[\"C0\", \"C1\", \"k\"]).set(title='dataset6', xlabel = '', ylabel = '')\n",
    "sns.scatterplot(ax=axes[1, 2], data=dataset7,  x='x1', y='x2', hue='y',style = 'y', s=6,palette=[\"C0\", \"C1\", \"k\"]).set(title='dataset7', xlabel = '', ylabel = '')\n",
    "sns.scatterplot(ax=axes[1, 3], data=dataset8,  x='x1', y='x2', hue='y',style = 'y', s=6,palette=[\"C0\", \"C1\", \"k\",'green','gold']).set(title='dataset8', xlabel = '', ylabel = '')\n",
    "sns.scatterplot(ax=axes[2, 0], data=dataset9,  x='x1', y='x2', hue='y',style = 'y', s=6,palette=[\"C0\", \"C1\", \"k\"]).set(title='dataset9', xlabel = '', ylabel = '')\n",
    "sns.scatterplot(ax=axes[2, 1], data=dataset10,  x='x1', y='x2', hue='y',style = 'y', s=6,palette=[\"C0\", \"C1\", \"k\"]).set(title='dataset10', xlabel = '', ylabel = '')\n",
    "sns.scatterplot(ax=axes[2, 2], data=dataset11,  x='x1', y='x2', hue='y',style = 'y', s=6,palette=[\"C0\", \"C1\", \"k\",'green']).set(title='dataset11', xlabel = '', ylabel = '')\n",
    "sns.scatterplot(ax=axes[2, 3], data=dataset12,  x='x1', y='x2', hue='y',style = 'y', s=6,palette=[\"C0\", \"C1\", \"k\"]).set(title='dataset12', xlabel = '', ylabel = '')\n",
    "sns.scatterplot(ax=axes[3, 0], data=dataset13,  x='x1', y='x2', hue='y',style = 'y', s=6,palette=[\"C0\", \"C1\"]).set(title='dataset13', xlabel = '', ylabel = '')\n",
    "\n",
    "plt.show()"
   ],
   "metadata": {
    "collapsed": false,
    "ExecuteTime": {
     "start_time": "2023-10-16T15:26:50.694457941Z"
    }
   }
  },
  {
   "cell_type": "markdown",
   "source": [
    "## Complexity boxplots"
   ],
   "metadata": {
    "collapsed": false
   }
  },
  {
   "cell_type": "code",
   "execution_count": null,
   "outputs": [],
   "source": [
    "path_csv = os.chdir(root_path+'/Results_Complexity_InstanceLevel')\n",
    "\n",
    "\n",
    "# Extraemos los nombres de todos los ficheros\n",
    "total_name_list = []\n",
    "for filename in os.listdir(path_csv):\n",
    "    if filename.endswith('.csv'):\n",
    "        total_name_list.append(filename)\n",
    "\n",
    "total_name_list = ['ComplexityMeasures_InstanceLevel_Data1.csv',\n",
    "                   'ComplexityMeasures_InstanceLevel_Data2.csv',\n",
    "                   'ComplexityMeasures_InstanceLevel_Data3.csv',\n",
    "                   'ComplexityMeasures_InstanceLevel_Data4.csv',\n",
    "                   'ComplexityMeasures_InstanceLevel_Data5.csv','ComplexityMeasures_InstanceLevel_Data6.csv',\n",
    "                    'ComplexityMeasures_InstanceLevel_Data7.csv',\n",
    "                   'ComplexityMeasures_InstanceLevel_Data8.csv',\n",
    "                   'ComplexityMeasures_InstanceLevel_Data9.csv',\n",
    "                'ComplexityMeasures_InstanceLevel_Data10.csv','ComplexityMeasures_InstanceLevel_Data11.csv',\n",
    "                   'ComplexityMeasures_InstanceLevel_Data12.csv','ComplexityMeasures_InstanceLevel_Data13.csv',]\n",
    "\n",
    "cols_name = ['dataset','Hostility', 'kDN', 'DS', 'DCP', 'TD_U', 'TD_P', 'MV', 'CB', 'CLD',\n",
    "       'N1', 'N2', 'LSC', 'LSradius', 'H', 'U', 'F1', 'F2', 'F3', 'F4']\n",
    "data_total = pd.DataFrame(columns=cols_name)\n",
    "\n",
    "for data_file in total_name_list:\n",
    "    # print(data_file)\n",
    "    file = data_file\n",
    "\n",
    "    file_name = data_file[33:-4]\n",
    "    data = pd.read_csv(file,index_col=0)\n",
    "    data['dataset'] = file_name\n",
    "    data_total = pd.concat([data_total, data], ignore_index=True)\n",
    "\n"
   ],
   "metadata": {
    "collapsed": false,
    "ExecuteTime": {
     "end_time": "2023-10-16T15:26:50.695054013Z",
     "start_time": "2023-10-16T15:26:50.694762403Z"
    }
   }
  },
  {
   "cell_type": "markdown",
   "source": [
    "## Ordered by median"
   ],
   "metadata": {
    "collapsed": false
   }
  },
  {
   "cell_type": "code",
   "execution_count": null,
   "outputs": [],
   "source": [
    "\n",
    "order_cld = data_total.groupby(['dataset'])['CLD'].median().sort_values(ascending=True).index\n",
    "order_dcp = data_total.groupby(['dataset'])['DCP'].median().sort_values(ascending=True).index\n",
    "order_f1 = data_total.groupby(['dataset'])['F1'].median().sort_values(ascending=True).index\n",
    "order_lsc = data_total.groupby(['dataset'])['LSC'].median().sort_values(ascending=True).index\n",
    "order_n1 = data_total.groupby(['dataset'])['N1'].median().sort_values(ascending=True).index\n",
    "order_n2 = data_total.groupby(['dataset'])['N2'].median().sort_values(ascending=True).index\n",
    "order_tdu = data_total.groupby(['dataset'])['TD_U'].median().sort_values(ascending=True).index\n",
    "order_kdn = data_total.groupby(['dataset'])['kDN'].median().sort_values(ascending=True).index\n",
    "order_host = data_total.groupby(['dataset'])['Hostility'].median().sort_values(ascending=True).index"
   ],
   "metadata": {
    "collapsed": false,
    "ExecuteTime": {
     "start_time": "2023-10-16T15:26:50.694862507Z"
    }
   }
  },
  {
   "cell_type": "code",
   "execution_count": null,
   "outputs": [],
   "source": [],
   "metadata": {
    "collapsed": false,
    "ExecuteTime": {
     "start_time": "2023-10-16T15:26:50.694951897Z"
    }
   }
  },
  {
   "cell_type": "code",
   "execution_count": null,
   "outputs": [],
   "source": [
    "fig, axes = plt.subplots(3, 3, figsize=(18, 18))\n",
    "fig.suptitle('Ordered by median',y=0.91)\n",
    "sns.boxplot(ax=axes[0, 0],data=data_total, x=\"CLD\", y=\"dataset\", order=order_cld)\n",
    "sns.boxplot(ax=axes[0, 1],data=data_total, x=\"DCP\", y=\"dataset\", order=order_dcp)\n",
    "sns.boxplot(ax=axes[0, 2],data=data_total, x=\"F1\", y=\"dataset\", order=order_f1)\n",
    "sns.boxplot(ax=axes[1, 0],data=data_total, x=\"LSC\", y=\"dataset\", order=order_lsc)\n",
    "sns.boxplot(ax=axes[1, 1],data=data_total, x=\"N1\", y=\"dataset\", order=order_n1)\n",
    "sns.boxplot(ax=axes[1, 2],data=data_total, x=\"N2\", y=\"dataset\", order=order_n2)\n",
    "sns.boxplot(ax=axes[2, 0],data=data_total, x=\"TD_U\", y=\"dataset\", order=order_tdu)\n",
    "sns.boxplot(ax=axes[2, 1],data=data_total, x=\"kDN\", y=\"dataset\", order=order_kdn)\n",
    "sns.boxplot(ax=axes[2, 2],data=data_total, x=\"Hostility\", y=\"dataset\", order=order_host)\n",
    "plt.show()"
   ],
   "metadata": {
    "collapsed": false,
    "ExecuteTime": {
     "start_time": "2023-10-16T15:26:50.695030475Z"
    }
   }
  },
  {
   "cell_type": "markdown",
   "source": [
    "### Spearman correlation using the median"
   ],
   "metadata": {
    "collapsed": false
   }
  },
  {
   "cell_type": "code",
   "execution_count": null,
   "outputs": [],
   "source": [
    "df_median = data_total.groupby(['dataset']).median()\n",
    "\n",
    "df_median = df_median.drop(['y', 'MV','CB','H','U','F2','F3','F4','DS','TD_P','LSradius'], axis=1)\n",
    "df_median.corr(numeric_only=True, method='spearman')"
   ],
   "metadata": {
    "collapsed": false,
    "ExecuteTime": {
     "end_time": "2023-10-16T15:26:50.696219790Z",
     "start_time": "2023-10-16T15:26:50.695153872Z"
    }
   }
  },
  {
   "cell_type": "markdown",
   "source": [
    "## Ordered by quantile 0.75"
   ],
   "metadata": {
    "collapsed": false
   }
  },
  {
   "cell_type": "code",
   "execution_count": null,
   "outputs": [],
   "source": [
    "\n",
    "order_cld = data_total.groupby(['dataset'])['CLD'].quantile(0.75).sort_values(ascending=True).index\n",
    "order_dcp = data_total.groupby(['dataset'])['DCP'].quantile(0.75).sort_values(ascending=True).index\n",
    "order_f1 = data_total.groupby(['dataset'])['F1'].quantile(0.75).sort_values(ascending=True).index\n",
    "order_lsc = data_total.groupby(['dataset'])['LSC'].quantile(0.75).sort_values(ascending=True).index\n",
    "order_n1 = data_total.groupby(['dataset'])['N1'].quantile(0.75).sort_values(ascending=True).index\n",
    "order_n2 = data_total.groupby(['dataset'])['N2'].quantile(0.75).sort_values(ascending=True).index\n",
    "order_tdu = data_total.groupby(['dataset'])['TD_U'].quantile(0.75).sort_values(ascending=True).index\n",
    "order_kdn = data_total.groupby(['dataset'])['kDN'].quantile(0.75).sort_values(ascending=True).index\n",
    "order_host = data_total.groupby(['dataset'])['Hostility'].quantile(0.75).sort_values(ascending=True).index"
   ],
   "metadata": {
    "collapsed": false,
    "ExecuteTime": {
     "start_time": "2023-10-16T15:26:50.695279959Z"
    }
   }
  },
  {
   "cell_type": "code",
   "execution_count": null,
   "outputs": [],
   "source": [
    "fig, axes = plt.subplots(3, 3, figsize=(18, 18))\n",
    "fig.suptitle('Ordered by percentil 75',y=0.91)\n",
    "sns.boxplot(ax=axes[0, 0],data=data_total, x=\"CLD\", y=\"dataset\", order=order_cld)\n",
    "sns.boxplot(ax=axes[0, 1],data=data_total, x=\"DCP\", y=\"dataset\", order=order_dcp)\n",
    "sns.boxplot(ax=axes[0, 2],data=data_total, x=\"F1\", y=\"dataset\", order=order_f1)\n",
    "sns.boxplot(ax=axes[1, 0],data=data_total, x=\"LSC\", y=\"dataset\", order=order_lsc)\n",
    "sns.boxplot(ax=axes[1, 1],data=data_total, x=\"N1\", y=\"dataset\", order=order_n1)\n",
    "sns.boxplot(ax=axes[1, 2],data=data_total, x=\"N2\", y=\"dataset\", order=order_n2)\n",
    "sns.boxplot(ax=axes[2, 0],data=data_total, x=\"TD_U\", y=\"dataset\", order=order_tdu)\n",
    "sns.boxplot(ax=axes[2, 1],data=data_total, x=\"kDN\", y=\"dataset\", order=order_kdn)\n",
    "sns.boxplot(ax=axes[2, 2],data=data_total, x=\"Hostility\", y=\"dataset\", order=order_host)\n",
    "plt.show()"
   ],
   "metadata": {
    "collapsed": false,
    "ExecuteTime": {
     "start_time": "2023-10-16T15:26:50.695333297Z"
    }
   }
  },
  {
   "cell_type": "markdown",
   "source": [
    "### Spearman correlation using the percentile 75"
   ],
   "metadata": {
    "collapsed": false
   }
  },
  {
   "cell_type": "code",
   "execution_count": null,
   "outputs": [],
   "source": [
    "df_75 = data_total.groupby(['dataset']).quantile(0.75)\n",
    "df_75 = df_75.drop(['y', 'MV','CB','H','U','F2','F3','F4','DS','TD_P','LSradius'], axis=1)\n",
    "df_75.corr(numeric_only=True, method='spearman')"
   ],
   "metadata": {
    "collapsed": false,
    "ExecuteTime": {
     "start_time": "2023-10-16T15:26:50.695384505Z"
    }
   }
  },
  {
   "cell_type": "markdown",
   "source": [
    "Higher correlation values are found among the measures when using the percentile 75 than the median. In both cases, TDU, F1 and CLD are the measures showing lower correlation. For example, dataset 12 is one of the easiest datasets for all measures except for this three. This may be due to the assumption they made: a decision tree needs too many cuts to divide dataset (TDU), with hyperplanes perpendicular to the axes all the classes cannot be separated (F1) and the Guassian assumption does not suit well uniform data (CLD).\n",
    "\n",
    "N1 is more difficult to analyze since it has a similar behavior for several datasets.\n",
    "\n",
    "In general, the measures consider easier the datasets: 4, 7, 12, 6 and 8. And harder: 3 (overlap + sparsity), 1 (overlap), 11 (overlap + different densities)."
   ],
   "metadata": {
    "collapsed": false
   }
  },
  {
   "cell_type": "markdown",
   "source": [],
   "metadata": {
    "collapsed": false
   }
  },
  {
   "cell_type": "markdown",
   "source": [
    "## Analysis per class"
   ],
   "metadata": {
    "collapsed": false
   }
  },
  {
   "cell_type": "code",
   "execution_count": null,
   "outputs": [],
   "source": [
    "# plt.figure(figsize=(15,6))\n",
    "fig, axes = plt.subplots(9, figsize=(17, 50))\n",
    "\n",
    "# sns.boxplot(data=data_total, x=\"dataset\", y=\"CLD\", hue='y', order=order_cld,palette=sns.color_palette('Paired'), saturation=1)\n",
    "# plt.legend(title = 'y',loc='upper left')\n",
    "\n",
    "fig.suptitle('Complexity divided by classes (ordered by percentil 75)', y=0.89)\n",
    "sns.boxplot(ax=axes[0],data=data_total, y=\"CLD\", x=\"dataset\", hue='y', order=order_cld,palette=sns.color_palette('Paired'), saturation=1).set(xlabel='')\n",
    "axes[0].legend(title='y',bbox_to_anchor=(1.01, 1), loc='upper left', borderaxespad=0)\n",
    "sns.boxplot(ax=axes[1],data=data_total, y=\"DCP\", x=\"dataset\",hue='y', order=order_dcp,palette=sns.color_palette('Paired'), saturation=1).set(xlabel='')\n",
    "axes[1].legend(title='y',bbox_to_anchor=(1.01, 1), loc='upper left', borderaxespad=0)\n",
    "sns.boxplot(ax=axes[2],data=data_total, y=\"F1\", x=\"dataset\", hue='y',order=order_f1,palette=sns.color_palette('Paired'), saturation=1).set(xlabel='')\n",
    "axes[2].legend(title='y',bbox_to_anchor=(1.01, 1), loc='upper left', borderaxespad=0)\n",
    "sns.boxplot(ax=axes[3],data=data_total, y=\"LSC\", x=\"dataset\",hue='y', order=order_lsc,palette=sns.color_palette('Paired'), saturation=1).set(xlabel='')\n",
    "axes[3].legend(title='y',bbox_to_anchor=(1.01, 1), loc='upper left', borderaxespad=0)\n",
    "sns.boxplot(ax=axes[4],data=data_total, y=\"N1\", x=\"dataset\", hue='y',order=order_n1,palette=sns.color_palette('Paired'), saturation=1).set(xlabel='')\n",
    "axes[4].legend(title='y',bbox_to_anchor=(1.01, 1), loc='upper left', borderaxespad=0)\n",
    "sns.boxplot(ax=axes[5],data=data_total, y=\"N2\", x=\"dataset\", hue='y',order=order_n2,palette=sns.color_palette('Paired'), saturation=1).set(xlabel='')\n",
    "axes[5].legend(title='y',bbox_to_anchor=(1.01, 1), loc='upper left', borderaxespad=0)\n",
    "sns.boxplot(ax=axes[6],data=data_total, y=\"TD_U\", x=\"dataset\",hue='y', order=order_tdu,palette=sns.color_palette('Paired'), saturation=1).set(xlabel='')\n",
    "axes[6].legend(title='y',bbox_to_anchor=(1.01, 1), loc='upper left', borderaxespad=0)\n",
    "sns.boxplot(ax=axes[7],data=data_total, y=\"kDN\", x=\"dataset\", hue='y',order=order_kdn,palette=sns.color_palette('Paired'), saturation=1).set(xlabel='')\n",
    "axes[7].legend(title='y',bbox_to_anchor=(1.01, 1), loc='upper left', borderaxespad=0)\n",
    "sns.boxplot(ax=axes[8],data=data_total, y=\"Hostility\", x=\"dataset\", hue='y',order=order_host,palette=sns.color_palette('Paired'), saturation=1).set(xlabel='')\n",
    "axes[8].legend(title='y',bbox_to_anchor=(1.01, 1), loc='upper left', borderaxespad=0)\n",
    "plt.show()"
   ],
   "metadata": {
    "collapsed": false,
    "ExecuteTime": {
     "start_time": "2023-10-16T15:26:50.695433602Z"
    }
   }
  },
  {
   "cell_type": "markdown",
   "source": [
    "In general the measures correctly capture which classes are harder to classify, mainly due to the overlap."
   ],
   "metadata": {
    "collapsed": false
   }
  },
  {
   "cell_type": "code",
   "execution_count": null,
   "outputs": [],
   "source": [],
   "metadata": {
    "collapsed": false,
    "ExecuteTime": {
     "start_time": "2023-10-16T15:26:50.695483724Z"
    }
   }
  }
 ],
 "metadata": {
  "kernelspec": {
   "display_name": "Python 3",
   "language": "python",
   "name": "python3"
  },
  "language_info": {
   "codemirror_mode": {
    "name": "ipython",
    "version": 2
   },
   "file_extension": ".py",
   "mimetype": "text/x-python",
   "name": "python",
   "nbconvert_exporter": "python",
   "pygments_lexer": "ipython2",
   "version": "2.7.6"
  }
 },
 "nbformat": 4,
 "nbformat_minor": 0
}
