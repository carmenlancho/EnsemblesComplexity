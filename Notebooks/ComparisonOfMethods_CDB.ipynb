{
 "cells": [
  {
   "cell_type": "code",
   "execution_count": 4,
   "id": "initial_id",
   "metadata": {
    "collapsed": true,
    "ExecuteTime": {
     "end_time": "2024-02-28T18:58:13.333119Z",
     "start_time": "2024-02-28T18:58:13.329103Z"
    }
   },
   "outputs": [],
   "source": [
    "import pandas as pd\n",
    "import numpy as np\n",
    "import matplotlib.pyplot as plt\n",
    "import seaborn as sns\n",
    "import os\n",
    "import statsmodels.api as sm\n",
    "from statsmodels.formula.api import ols\n",
    "from statsmodels.stats.multicomp import pairwise_tukeyhsd\n",
    "from statsmodels.stats.multitest import multipletests\n",
    "\n",
    "os.chdir(\"..\")\n",
    "root_path = os.getcwd()\n"
   ]
  },
  {
   "cell_type": "code",
   "outputs": [],
   "source": [
    "path_csv = os.chdir(root_path+'/Results_StandardBagging')\n",
    "df_standard = pd.read_csv('Results_StandardBagging_20_30_50_100_150_200_ensembles.csv')\n",
    "\n",
    "path_csv = os.chdir(root_path+'/MixedBagging/Adapted_results')\n",
    "df_mixed = pd.read_csv('Results_MixedBagging_20_30_50_100_150_200_ensembles.csv') # from 20 n_trees\n",
    "\n",
    "\n",
    "path_csv = os.chdir(root_path+'/Results_general_algorithm')\n",
    "df_cdb = pd.read_csv('Results_CDB_Filter6Parameters_20_30_50_100_150_200_ensembles.csv')\n",
    "\n"
   ],
   "metadata": {
    "collapsed": false,
    "ExecuteTime": {
     "end_time": "2024-02-28T18:58:14.449847Z",
     "start_time": "2024-02-28T18:58:14.352570Z"
    }
   },
   "id": "7c4e57bc012c964",
   "execution_count": 5
  },
  {
   "cell_type": "code",
   "outputs": [],
   "source": [
    "\n",
    "# Me quedo con el número de ensamblados que quiero y selecciono los mejores parámetros\n",
    "\n",
    "def Results_n_ensembles(df_cdb, df_mixed, df_standard, n_trees):\n",
    "\n",
    "    # Filter\n",
    "    df_cdb_trees = df_cdb[df_cdb['n_ensemble'] == n_trees]\n",
    "    df_standard_trees = df_standard[df_standard['n_ensemble'] == n_trees]\n",
    "    df_mixed_trees = df_mixed[df_mixed['n_trees'] == (n_trees+1)]\n",
    "\n",
    "    table_comparison = pd.DataFrame(columns=['Dataset', 'Standard_Bag_mean', 'Standard_Bag_std'])\n",
    "    table_comparison['Dataset'] = df_standard_trees['Dataset']\n",
    "    table_comparison['Standard_Bag_mean'] = df_standard_trees[\"accuracy_mean\"]\n",
    "    table_comparison['Standard_Bag_std'] = df_standard_trees[\"accuracy_std\"]\n",
    "    table_comparison.set_index('Dataset', inplace=True)\n",
    "\n",
    "    ## Grouped and incremented\n",
    "    df_mixed_aux = df_mixed_trees.loc[df_mixed_trees['model'] == 'Grouped_Mixed_Bagging',\n",
    "    ['Dataset', 'accuracy_mean', 'accuracy_std']]\n",
    "    df_mixed_aux.columns = ['Dataset', 'Grouped_accuracy_mean', 'Grouped_accuracy_std']\n",
    "    df_mixed_inc = df_mixed_trees.loc[df_mixed_trees['model'] == 'Incremental_Mixed_Bagging',\n",
    "    ['Dataset', 'accuracy_mean', 'accuracy_std']]\n",
    "    df_mixed_inc.columns = ['Dataset', 'Incremental_accuracy_mean', 'Incremental_accuracy_std']\n",
    "    df_mixed_aux.set_index('Dataset', inplace=True)\n",
    "    df_mixed_inc.set_index('Dataset', inplace=True)\n",
    "\n",
    "    table_comparison = table_comparison.join(df_mixed_aux[['Grouped_accuracy_mean', 'Grouped_accuracy_std']])\n",
    "    table_comparison = table_comparison.join(\n",
    "        df_mixed_inc[['Incremental_accuracy_mean', 'Incremental_accuracy_std']])\n",
    "    table_comparison.columns = ['Standard_Bag_mean', 'Standard_Bag_std', 'Grouped_Bag_mean', 'Grouped_Bag_std',\n",
    "                                'Incre_Bag_mean', 'Incre_Bag_std']\n",
    "\n",
    "    ## Best parameters per dataset in CDB\n",
    "    best_param = df_cdb_trees.loc[df_cdb_trees.groupby([\"Dataset\", \"weights\"])[\"accuracy_mean\"].idxmax()]\n",
    "\n",
    "    # Hostility\n",
    "    df_aux = best_param.loc[\n",
    "        best_param['weights'] == 'Hostility', ['Dataset', 'accuracy_mean', 'accuracy_std']]\n",
    "    df_aux.set_index('Dataset', inplace=True)\n",
    "    table_comparison = table_comparison.join(df_aux[['accuracy_mean', 'accuracy_std']])\n",
    "    table_comparison.rename(columns={'accuracy_mean': 'CDB_Host_mean',\n",
    "                                     'accuracy_std': 'CDB_Host_std'}, inplace=True)\n",
    "    # kDN\n",
    "    df_aux = best_param.loc[best_param['weights'] == 'kDN', ['Dataset', 'accuracy_mean', 'accuracy_std']]\n",
    "    df_aux.set_index('Dataset', inplace=True)\n",
    "    table_comparison = table_comparison.join(df_aux[['accuracy_mean', 'accuracy_std']])\n",
    "    table_comparison.rename(columns={'accuracy_mean': 'CDB_kDN_mean',\n",
    "                                     'accuracy_std': 'CDB_kDN_std'}, inplace=True)\n",
    "    # CLD\n",
    "    df_aux = best_param.loc[best_param['weights'] == 'CLD', ['Dataset', 'accuracy_mean', 'accuracy_std']]\n",
    "    df_aux.set_index('Dataset', inplace=True)\n",
    "    table_comparison = table_comparison.join(df_aux[['accuracy_mean', 'accuracy_std']])\n",
    "    table_comparison.rename(columns={'accuracy_mean': 'CDB_CLD_mean',\n",
    "                                     'accuracy_std': 'CDB_CLD_std'}, inplace=True)\n",
    "    # LSC\n",
    "    df_aux = best_param.loc[best_param['weights'] == 'LSC', ['Dataset', 'accuracy_mean', 'accuracy_std']]\n",
    "    df_aux.set_index('Dataset', inplace=True)\n",
    "    table_comparison = table_comparison.join(df_aux[['accuracy_mean', 'accuracy_std']])\n",
    "    table_comparison.rename(columns={'accuracy_mean': 'CDB_LSC_mean',\n",
    "                                     'accuracy_std': 'CDB_LSC_std'}, inplace=True)\n",
    "    # N1\n",
    "    df_aux = best_param.loc[best_param['weights'] == 'N1', ['Dataset', 'accuracy_mean', 'accuracy_std']]\n",
    "    df_aux.set_index('Dataset', inplace=True)\n",
    "    table_comparison = table_comparison.join(df_aux[['accuracy_mean', 'accuracy_std']])\n",
    "    table_comparison.rename(columns={'accuracy_mean': 'CDB_N1_mean',\n",
    "                                     'accuracy_std': 'CDB_N1_std'}, inplace=True)\n",
    "    # N2\n",
    "    df_aux = best_param.loc[best_param['weights'] == 'N2', ['Dataset', 'accuracy_mean', 'accuracy_std']]\n",
    "    df_aux.set_index('Dataset', inplace=True)\n",
    "    table_comparison = table_comparison.join(df_aux[['accuracy_mean', 'accuracy_std']])\n",
    "    table_comparison.rename(columns={'accuracy_mean': 'CDB_N2_mean',\n",
    "                                     'accuracy_std': 'CDB_N2_std'}, inplace=True)\n",
    "    # DCP\n",
    "    df_aux = best_param.loc[best_param['weights'] == 'DCP', ['Dataset', 'accuracy_mean', 'accuracy_std']]\n",
    "    df_aux.set_index('Dataset', inplace=True)\n",
    "    table_comparison = table_comparison.join(df_aux[['accuracy_mean', 'accuracy_std']])\n",
    "    table_comparison.rename(columns={'accuracy_mean': 'CDB_DCP_mean',\n",
    "                                     'accuracy_std': 'CDB_DCP_std'}, inplace=True)\n",
    "    # TD_U\n",
    "    df_aux = best_param.loc[best_param['weights'] == 'TD_U', ['Dataset', 'accuracy_mean', 'accuracy_std']]\n",
    "    df_aux.set_index('Dataset', inplace=True)\n",
    "    table_comparison = table_comparison.join(df_aux[['accuracy_mean', 'accuracy_std']])\n",
    "    table_comparison.rename(columns={'accuracy_mean': 'CDB_TD_U_mean',\n",
    "                                     'accuracy_std': 'CDB_TD_U_std'}, inplace=True)\n",
    "    # F1\n",
    "    df_aux = best_param.loc[best_param['weights'] == 'F1', ['Dataset', 'accuracy_mean', 'accuracy_std']]\n",
    "    df_aux.set_index('Dataset', inplace=True)\n",
    "    table_comparison = table_comparison.join(df_aux[['accuracy_mean', 'accuracy_std']])\n",
    "    table_comparison.rename(columns={'accuracy_mean': 'CDB_F1_mean',\n",
    "                                     'accuracy_std': 'CDB_F1_std'}, inplace=True)\n",
    "\n",
    "\n",
    "    table_comparison_mean = table_comparison.loc[:,\n",
    "                            table_comparison.columns[table_comparison.columns.str.endswith('mean')]]\n",
    "\n",
    "    return table_comparison, table_comparison_mean\n",
    "\n"
   ],
   "metadata": {
    "collapsed": false,
    "ExecuteTime": {
     "end_time": "2024-02-28T19:00:14.834390Z",
     "start_time": "2024-02-28T19:00:14.817016Z"
    }
   },
   "id": "157a52f36d881f7f",
   "execution_count": 6
  },
  {
   "cell_type": "code",
   "outputs": [],
   "source": [
    "methods = ['Standard_Bag_mean','Grouped_Bag_mean','Incre_Bag_mean','CDB_Host_mean',\n",
    "           'CDB_kDN_mean','CDB_CLD_mean','CDB_LSC_mean','CDB_N1_mean','CDB_N2_mean',\n",
    "           'CDB_DCP_mean','CDB_TD_U_mean','CDB_F1_mean']\n",
    "\n",
    "def rank_df(df_mean, method, methods=methods):\n",
    "    rank_index = [i for i in methods if i != method]\n",
    "    wtl_df = pd.DataFrame(index=rank_index,\n",
    "                          columns=['Wins', 'Ties', 'Losses'])\n",
    "    for i in rank_index:\n",
    "        wtl_df.loc[i, 'Wins'] = sum(df_mean[method] > df_mean[i])\n",
    "        wtl_df.loc[i, 'Losses'] = sum(df_mean[method] < df_mean[i])\n",
    "        wtl_df.loc[i, 'Ties'] = len(df_mean) - wtl_df.loc[i, 'Wins'] - wtl_df.loc[i, 'Losses']\n",
    "    wtl_plot = wtl_df.copy()\n",
    "    wtl_plot['Ties'] = wtl_df['Wins'] + wtl_df['Ties']\n",
    "    wtl_plot['Losses'] = wtl_plot['Ties'] + wtl_df['Losses']\n",
    "\n",
    "    return wtl_df, wtl_plot"
   ],
   "metadata": {
    "collapsed": false,
    "ExecuteTime": {
     "end_time": "2024-02-28T19:00:17.298238Z",
     "start_time": "2024-02-28T19:00:17.294447Z"
    }
   },
   "id": "24ac6b71ccc2a4ad",
   "execution_count": 7
  },
  {
   "cell_type": "code",
   "outputs": [],
   "source": [
    "\n",
    "### Sacamos los resultados para distintos cortes\n",
    "n_trees_v = [19,29,49,99,149,199]\n",
    "\n",
    "total_dict_str = {}\n",
    "for n_trees in n_trees_v:\n",
    "    n_trees_str = str(n_trees+1)\n",
    "    _, table_comparison_n_trees = Results_n_ensembles(df_cdb, df_mixed, df_standard, n_trees)\n",
    "    total_dict_ntrees = {}\n",
    "    total_dict_ntrees_str = {}\n",
    "    for method_i in methods:\n",
    "        wtl_df, _ = rank_df(table_comparison_n_trees, method_i, methods=methods)\n",
    "        wtl_df_str = pd.DataFrame()\n",
    "        wtl_df_str['wtl'] = \"(\" + wtl_df.apply(lambda row: ','.join(row.values.astype(str)), axis=1) + \")\"\n",
    "        total_dict_ntrees[method_i] = wtl_df\n",
    "        total_dict_ntrees_str[method_i] = wtl_df_str\n",
    "    total_dict_str[n_trees_str] = total_dict_ntrees_str\n",
    "\n",
    "\n",
    "\n",
    "# n_trees_index = list(total_dict_str.keys())\n",
    "methods_CM = methods[3:]\n",
    "dict_to_table = {}\n",
    "for method_i in methods_CM:\n",
    "    df_to_append = pd.DataFrame()\n",
    "    for k in total_dict_str.keys():\n",
    "        df_to_append = pd.concat([df_to_append,pd.DataFrame(total_dict_str[k][method_i].T)])\n",
    "    df_to_append.index = list(total_dict_str.keys())\n",
    "    dict_to_table[method_i] = df_to_append\n",
    "\n"
   ],
   "metadata": {
    "collapsed": false,
    "ExecuteTime": {
     "end_time": "2024-02-28T19:00:18.764661Z",
     "start_time": "2024-02-28T19:00:18.032088Z"
    }
   },
   "id": "19f57df4d1fa950e",
   "execution_count": 8
  },
  {
   "cell_type": "code",
   "outputs": [
    {
     "data": {
      "text/plain": "    Standard_Bag_mean Grouped_Bag_mean Incre_Bag_mean CDB_kDN_mean  \\\n20           (41,3,0)         (39,2,3)       (37,2,5)    (22,6,16)   \n30           (40,3,1)         (38,2,4)       (37,2,5)    (27,5,12)   \n50           (41,3,0)         (37,2,5)       (36,4,4)    (24,9,11)   \n100          (38,4,2)         (35,2,7)       (32,3,9)    (21,7,16)   \n150          (39,4,1)         (36,2,6)       (32,3,9)    (21,7,16)   \n200          (40,3,1)         (34,2,8)      (31,2,11)    (23,5,16)   \n\n    CDB_CLD_mean CDB_LSC_mean CDB_N1_mean CDB_N2_mean CDB_DCP_mean  \\\n20     (19,4,21)    (25,4,15)   (28,3,13)   (17,3,24)    (20,4,20)   \n30     (15,5,24)    (21,5,18)   (25,3,16)   (24,3,17)    (21,5,18)   \n50     (17,5,22)    (24,4,16)   (26,5,13)   (24,5,15)    (21,6,17)   \n100    (16,8,20)    (23,3,18)   (25,5,14)   (22,6,16)    (17,4,23)   \n150    (13,8,23)    (21,4,19)   (28,4,12)   (18,7,19)    (16,4,24)   \n200    (14,8,22)    (22,5,17)   (28,6,10)   (25,4,15)    (24,4,16)   \n\n    CDB_TD_U_mean CDB_F1_mean  \n20      (24,4,16)   (21,3,20)  \n30      (22,6,16)   (23,4,17)  \n50      (21,5,18)   (24,5,15)  \n100     (20,3,21)   (23,4,17)  \n150     (21,6,17)   (20,7,17)  \n200     (21,6,17)   (22,7,15)  ",
      "text/html": "<div>\n<style scoped>\n    .dataframe tbody tr th:only-of-type {\n        vertical-align: middle;\n    }\n\n    .dataframe tbody tr th {\n        vertical-align: top;\n    }\n\n    .dataframe thead th {\n        text-align: right;\n    }\n</style>\n<table border=\"1\" class=\"dataframe\">\n  <thead>\n    <tr style=\"text-align: right;\">\n      <th></th>\n      <th>Standard_Bag_mean</th>\n      <th>Grouped_Bag_mean</th>\n      <th>Incre_Bag_mean</th>\n      <th>CDB_kDN_mean</th>\n      <th>CDB_CLD_mean</th>\n      <th>CDB_LSC_mean</th>\n      <th>CDB_N1_mean</th>\n      <th>CDB_N2_mean</th>\n      <th>CDB_DCP_mean</th>\n      <th>CDB_TD_U_mean</th>\n      <th>CDB_F1_mean</th>\n    </tr>\n  </thead>\n  <tbody>\n    <tr>\n      <th>20</th>\n      <td>(41,3,0)</td>\n      <td>(39,2,3)</td>\n      <td>(37,2,5)</td>\n      <td>(22,6,16)</td>\n      <td>(19,4,21)</td>\n      <td>(25,4,15)</td>\n      <td>(28,3,13)</td>\n      <td>(17,3,24)</td>\n      <td>(20,4,20)</td>\n      <td>(24,4,16)</td>\n      <td>(21,3,20)</td>\n    </tr>\n    <tr>\n      <th>30</th>\n      <td>(40,3,1)</td>\n      <td>(38,2,4)</td>\n      <td>(37,2,5)</td>\n      <td>(27,5,12)</td>\n      <td>(15,5,24)</td>\n      <td>(21,5,18)</td>\n      <td>(25,3,16)</td>\n      <td>(24,3,17)</td>\n      <td>(21,5,18)</td>\n      <td>(22,6,16)</td>\n      <td>(23,4,17)</td>\n    </tr>\n    <tr>\n      <th>50</th>\n      <td>(41,3,0)</td>\n      <td>(37,2,5)</td>\n      <td>(36,4,4)</td>\n      <td>(24,9,11)</td>\n      <td>(17,5,22)</td>\n      <td>(24,4,16)</td>\n      <td>(26,5,13)</td>\n      <td>(24,5,15)</td>\n      <td>(21,6,17)</td>\n      <td>(21,5,18)</td>\n      <td>(24,5,15)</td>\n    </tr>\n    <tr>\n      <th>100</th>\n      <td>(38,4,2)</td>\n      <td>(35,2,7)</td>\n      <td>(32,3,9)</td>\n      <td>(21,7,16)</td>\n      <td>(16,8,20)</td>\n      <td>(23,3,18)</td>\n      <td>(25,5,14)</td>\n      <td>(22,6,16)</td>\n      <td>(17,4,23)</td>\n      <td>(20,3,21)</td>\n      <td>(23,4,17)</td>\n    </tr>\n    <tr>\n      <th>150</th>\n      <td>(39,4,1)</td>\n      <td>(36,2,6)</td>\n      <td>(32,3,9)</td>\n      <td>(21,7,16)</td>\n      <td>(13,8,23)</td>\n      <td>(21,4,19)</td>\n      <td>(28,4,12)</td>\n      <td>(18,7,19)</td>\n      <td>(16,4,24)</td>\n      <td>(21,6,17)</td>\n      <td>(20,7,17)</td>\n    </tr>\n    <tr>\n      <th>200</th>\n      <td>(40,3,1)</td>\n      <td>(34,2,8)</td>\n      <td>(31,2,11)</td>\n      <td>(23,5,16)</td>\n      <td>(14,8,22)</td>\n      <td>(22,5,17)</td>\n      <td>(28,6,10)</td>\n      <td>(25,4,15)</td>\n      <td>(24,4,16)</td>\n      <td>(21,6,17)</td>\n      <td>(22,7,15)</td>\n    </tr>\n  </tbody>\n</table>\n</div>"
     },
     "execution_count": 10,
     "metadata": {},
     "output_type": "execute_result"
    }
   ],
   "source": [
    "dict_to_table['CDB_Host_mean']"
   ],
   "metadata": {
    "collapsed": false,
    "ExecuteTime": {
     "end_time": "2024-02-28T19:40:42.436064Z",
     "start_time": "2024-02-28T19:40:42.427546Z"
    }
   },
   "id": "ef57b049d27f6da9",
   "execution_count": 10
  },
  {
   "cell_type": "code",
   "outputs": [
    {
     "data": {
      "text/plain": "    Standard_Bag_mean Grouped_Bag_mean Incre_Bag_mean CDB_Host_mean  \\\n20           (41,3,0)         (39,2,3)       (36,2,6)     (16,6,22)   \n30           (38,3,3)         (37,2,5)       (36,3,5)     (12,5,27)   \n50           (40,3,1)         (37,2,5)       (34,3,7)     (11,9,24)   \n100          (41,3,0)         (32,3,9)      (30,2,12)     (16,7,21)   \n150          (40,3,1)         (34,2,8)      (32,2,10)     (16,7,21)   \n200          (40,3,1)         (35,3,6)       (33,3,8)     (16,5,23)   \n\n    CDB_CLD_mean CDB_LSC_mean CDB_N1_mean CDB_N2_mean CDB_DCP_mean  \\\n20     (14,4,26)    (17,4,23)   (19,4,21)   (16,6,22)    (21,3,20)   \n30      (8,7,29)    (13,5,26)   (21,4,19)   (19,5,20)    (11,6,27)   \n50     (17,3,24)    (18,4,22)   (22,6,16)   (21,4,19)    (19,3,22)   \n100    (11,4,29)    (20,3,21)   (21,7,16)   (20,3,21)    (17,3,24)   \n150    (13,6,25)    (22,6,16)   (23,5,16)   (17,5,22)    (17,7,20)   \n200    (11,5,28)    (18,5,21)   (25,7,12)   (20,5,19)    (18,6,20)   \n\n    CDB_TD_U_mean CDB_F1_mean  \n20      (18,6,20)   (17,5,22)  \n30      (17,4,23)   (19,4,21)  \n50      (21,3,20)   (19,5,20)  \n100     (18,5,21)   (20,5,19)  \n150     (21,5,18)   (18,8,18)  \n200     (21,5,18)   (23,4,17)  ",
      "text/html": "<div>\n<style scoped>\n    .dataframe tbody tr th:only-of-type {\n        vertical-align: middle;\n    }\n\n    .dataframe tbody tr th {\n        vertical-align: top;\n    }\n\n    .dataframe thead th {\n        text-align: right;\n    }\n</style>\n<table border=\"1\" class=\"dataframe\">\n  <thead>\n    <tr style=\"text-align: right;\">\n      <th></th>\n      <th>Standard_Bag_mean</th>\n      <th>Grouped_Bag_mean</th>\n      <th>Incre_Bag_mean</th>\n      <th>CDB_Host_mean</th>\n      <th>CDB_CLD_mean</th>\n      <th>CDB_LSC_mean</th>\n      <th>CDB_N1_mean</th>\n      <th>CDB_N2_mean</th>\n      <th>CDB_DCP_mean</th>\n      <th>CDB_TD_U_mean</th>\n      <th>CDB_F1_mean</th>\n    </tr>\n  </thead>\n  <tbody>\n    <tr>\n      <th>20</th>\n      <td>(41,3,0)</td>\n      <td>(39,2,3)</td>\n      <td>(36,2,6)</td>\n      <td>(16,6,22)</td>\n      <td>(14,4,26)</td>\n      <td>(17,4,23)</td>\n      <td>(19,4,21)</td>\n      <td>(16,6,22)</td>\n      <td>(21,3,20)</td>\n      <td>(18,6,20)</td>\n      <td>(17,5,22)</td>\n    </tr>\n    <tr>\n      <th>30</th>\n      <td>(38,3,3)</td>\n      <td>(37,2,5)</td>\n      <td>(36,3,5)</td>\n      <td>(12,5,27)</td>\n      <td>(8,7,29)</td>\n      <td>(13,5,26)</td>\n      <td>(21,4,19)</td>\n      <td>(19,5,20)</td>\n      <td>(11,6,27)</td>\n      <td>(17,4,23)</td>\n      <td>(19,4,21)</td>\n    </tr>\n    <tr>\n      <th>50</th>\n      <td>(40,3,1)</td>\n      <td>(37,2,5)</td>\n      <td>(34,3,7)</td>\n      <td>(11,9,24)</td>\n      <td>(17,3,24)</td>\n      <td>(18,4,22)</td>\n      <td>(22,6,16)</td>\n      <td>(21,4,19)</td>\n      <td>(19,3,22)</td>\n      <td>(21,3,20)</td>\n      <td>(19,5,20)</td>\n    </tr>\n    <tr>\n      <th>100</th>\n      <td>(41,3,0)</td>\n      <td>(32,3,9)</td>\n      <td>(30,2,12)</td>\n      <td>(16,7,21)</td>\n      <td>(11,4,29)</td>\n      <td>(20,3,21)</td>\n      <td>(21,7,16)</td>\n      <td>(20,3,21)</td>\n      <td>(17,3,24)</td>\n      <td>(18,5,21)</td>\n      <td>(20,5,19)</td>\n    </tr>\n    <tr>\n      <th>150</th>\n      <td>(40,3,1)</td>\n      <td>(34,2,8)</td>\n      <td>(32,2,10)</td>\n      <td>(16,7,21)</td>\n      <td>(13,6,25)</td>\n      <td>(22,6,16)</td>\n      <td>(23,5,16)</td>\n      <td>(17,5,22)</td>\n      <td>(17,7,20)</td>\n      <td>(21,5,18)</td>\n      <td>(18,8,18)</td>\n    </tr>\n    <tr>\n      <th>200</th>\n      <td>(40,3,1)</td>\n      <td>(35,3,6)</td>\n      <td>(33,3,8)</td>\n      <td>(16,5,23)</td>\n      <td>(11,5,28)</td>\n      <td>(18,5,21)</td>\n      <td>(25,7,12)</td>\n      <td>(20,5,19)</td>\n      <td>(18,6,20)</td>\n      <td>(21,5,18)</td>\n      <td>(23,4,17)</td>\n    </tr>\n  </tbody>\n</table>\n</div>"
     },
     "execution_count": 11,
     "metadata": {},
     "output_type": "execute_result"
    }
   ],
   "source": [
    "dict_to_table['CDB_kDN_mean']"
   ],
   "metadata": {
    "collapsed": false,
    "ExecuteTime": {
     "end_time": "2024-02-28T19:40:44.894782Z",
     "start_time": "2024-02-28T19:40:44.885108Z"
    }
   },
   "id": "20f6c8d19b2a2ee6",
   "execution_count": 11
  },
  {
   "cell_type": "code",
   "outputs": [
    {
     "data": {
      "text/plain": "    Standard_Bag_mean Grouped_Bag_mean Incre_Bag_mean CDB_Host_mean  \\\n20           (41,3,0)         (39,3,2)       (37,2,5)     (21,4,19)   \n30           (40,3,1)         (39,2,3)       (39,2,3)     (24,5,15)   \n50           (41,3,0)         (38,2,4)       (37,2,5)     (22,5,17)   \n100          (41,3,0)         (37,2,5)       (34,2,8)     (20,8,16)   \n150          (41,3,0)         (35,2,7)       (32,3,9)     (23,8,13)   \n200          (41,3,0)         (35,3,6)       (34,2,8)     (22,8,14)   \n\n    CDB_kDN_mean CDB_LSC_mean CDB_N1_mean CDB_N2_mean CDB_DCP_mean  \\\n20     (26,4,14)    (20,5,19)   (23,4,17)   (20,7,17)    (21,5,18)   \n30      (29,7,8)    (25,6,13)   (30,3,11)   (25,5,14)    (20,6,18)   \n50     (24,3,17)    (23,6,15)    (30,7,7)   (24,4,16)    (23,4,17)   \n100    (29,4,11)    (21,5,18)   (25,6,13)   (21,9,14)    (21,4,19)   \n150    (25,6,13)    (22,7,15)   (29,5,10)   (23,4,17)    (20,6,18)   \n200    (28,5,11)    (25,6,13)    (30,7,7)   (23,5,16)    (24,5,15)   \n\n    CDB_TD_U_mean CDB_F1_mean  \n20      (25,3,16)   (22,3,19)  \n30      (26,4,14)   (25,5,14)  \n50      (25,6,13)   (22,8,14)  \n100     (23,5,16)   (25,5,14)  \n150     (26,4,14)   (25,6,13)  \n200     (23,6,15)   (27,5,12)  ",
      "text/html": "<div>\n<style scoped>\n    .dataframe tbody tr th:only-of-type {\n        vertical-align: middle;\n    }\n\n    .dataframe tbody tr th {\n        vertical-align: top;\n    }\n\n    .dataframe thead th {\n        text-align: right;\n    }\n</style>\n<table border=\"1\" class=\"dataframe\">\n  <thead>\n    <tr style=\"text-align: right;\">\n      <th></th>\n      <th>Standard_Bag_mean</th>\n      <th>Grouped_Bag_mean</th>\n      <th>Incre_Bag_mean</th>\n      <th>CDB_Host_mean</th>\n      <th>CDB_kDN_mean</th>\n      <th>CDB_LSC_mean</th>\n      <th>CDB_N1_mean</th>\n      <th>CDB_N2_mean</th>\n      <th>CDB_DCP_mean</th>\n      <th>CDB_TD_U_mean</th>\n      <th>CDB_F1_mean</th>\n    </tr>\n  </thead>\n  <tbody>\n    <tr>\n      <th>20</th>\n      <td>(41,3,0)</td>\n      <td>(39,3,2)</td>\n      <td>(37,2,5)</td>\n      <td>(21,4,19)</td>\n      <td>(26,4,14)</td>\n      <td>(20,5,19)</td>\n      <td>(23,4,17)</td>\n      <td>(20,7,17)</td>\n      <td>(21,5,18)</td>\n      <td>(25,3,16)</td>\n      <td>(22,3,19)</td>\n    </tr>\n    <tr>\n      <th>30</th>\n      <td>(40,3,1)</td>\n      <td>(39,2,3)</td>\n      <td>(39,2,3)</td>\n      <td>(24,5,15)</td>\n      <td>(29,7,8)</td>\n      <td>(25,6,13)</td>\n      <td>(30,3,11)</td>\n      <td>(25,5,14)</td>\n      <td>(20,6,18)</td>\n      <td>(26,4,14)</td>\n      <td>(25,5,14)</td>\n    </tr>\n    <tr>\n      <th>50</th>\n      <td>(41,3,0)</td>\n      <td>(38,2,4)</td>\n      <td>(37,2,5)</td>\n      <td>(22,5,17)</td>\n      <td>(24,3,17)</td>\n      <td>(23,6,15)</td>\n      <td>(30,7,7)</td>\n      <td>(24,4,16)</td>\n      <td>(23,4,17)</td>\n      <td>(25,6,13)</td>\n      <td>(22,8,14)</td>\n    </tr>\n    <tr>\n      <th>100</th>\n      <td>(41,3,0)</td>\n      <td>(37,2,5)</td>\n      <td>(34,2,8)</td>\n      <td>(20,8,16)</td>\n      <td>(29,4,11)</td>\n      <td>(21,5,18)</td>\n      <td>(25,6,13)</td>\n      <td>(21,9,14)</td>\n      <td>(21,4,19)</td>\n      <td>(23,5,16)</td>\n      <td>(25,5,14)</td>\n    </tr>\n    <tr>\n      <th>150</th>\n      <td>(41,3,0)</td>\n      <td>(35,2,7)</td>\n      <td>(32,3,9)</td>\n      <td>(23,8,13)</td>\n      <td>(25,6,13)</td>\n      <td>(22,7,15)</td>\n      <td>(29,5,10)</td>\n      <td>(23,4,17)</td>\n      <td>(20,6,18)</td>\n      <td>(26,4,14)</td>\n      <td>(25,6,13)</td>\n    </tr>\n    <tr>\n      <th>200</th>\n      <td>(41,3,0)</td>\n      <td>(35,3,6)</td>\n      <td>(34,2,8)</td>\n      <td>(22,8,14)</td>\n      <td>(28,5,11)</td>\n      <td>(25,6,13)</td>\n      <td>(30,7,7)</td>\n      <td>(23,5,16)</td>\n      <td>(24,5,15)</td>\n      <td>(23,6,15)</td>\n      <td>(27,5,12)</td>\n    </tr>\n  </tbody>\n</table>\n</div>"
     },
     "execution_count": 12,
     "metadata": {},
     "output_type": "execute_result"
    }
   ],
   "source": [
    "dict_to_table['CDB_CLD_mean']"
   ],
   "metadata": {
    "collapsed": false,
    "ExecuteTime": {
     "end_time": "2024-02-28T19:40:47.491079Z",
     "start_time": "2024-02-28T19:40:47.481541Z"
    }
   },
   "id": "c2c7177b0223f52d",
   "execution_count": 12
  },
  {
   "cell_type": "code",
   "outputs": [
    {
     "data": {
      "text/plain": "    Standard_Bag_mean Grouped_Bag_mean Incre_Bag_mean CDB_Host_mean  \\\n20           (41,3,0)         (40,2,2)       (38,2,4)     (15,4,25)   \n30           (40,3,1)         (36,3,5)       (38,2,4)     (18,5,21)   \n50           (40,3,1)         (36,2,6)       (34,2,8)     (16,4,24)   \n100          (39,3,2)         (35,2,7)       (34,4,6)     (18,3,23)   \n150          (38,3,3)         (33,2,9)       (31,5,8)     (19,4,21)   \n200          (40,3,1)         (33,2,9)       (36,2,6)     (17,5,22)   \n\n    CDB_kDN_mean CDB_CLD_mean CDB_N1_mean CDB_N2_mean CDB_DCP_mean  \\\n20     (23,4,17)    (19,5,20)   (23,4,17)   (19,3,22)    (21,4,19)   \n30     (26,5,13)    (13,6,25)   (26,4,14)   (19,7,18)    (20,4,20)   \n50     (22,4,18)    (15,6,23)   (23,4,17)   (22,4,18)    (19,4,21)   \n100    (21,3,20)    (18,5,21)   (22,4,18)   (21,5,18)    (17,3,24)   \n150    (16,6,22)    (15,7,22)   (23,5,16)   (19,5,20)    (17,6,21)   \n200    (21,5,18)    (13,6,25)   (27,4,13)   (23,7,14)    (22,4,18)   \n\n    CDB_TD_U_mean CDB_F1_mean  \n20      (20,3,21)   (19,8,17)  \n30      (21,5,18)   (23,6,15)  \n50      (19,5,20)   (21,5,18)  \n100     (22,3,19)   (21,8,15)  \n150     (19,6,19)   (17,6,21)  \n200     (19,6,19)   (23,4,17)  ",
      "text/html": "<div>\n<style scoped>\n    .dataframe tbody tr th:only-of-type {\n        vertical-align: middle;\n    }\n\n    .dataframe tbody tr th {\n        vertical-align: top;\n    }\n\n    .dataframe thead th {\n        text-align: right;\n    }\n</style>\n<table border=\"1\" class=\"dataframe\">\n  <thead>\n    <tr style=\"text-align: right;\">\n      <th></th>\n      <th>Standard_Bag_mean</th>\n      <th>Grouped_Bag_mean</th>\n      <th>Incre_Bag_mean</th>\n      <th>CDB_Host_mean</th>\n      <th>CDB_kDN_mean</th>\n      <th>CDB_CLD_mean</th>\n      <th>CDB_N1_mean</th>\n      <th>CDB_N2_mean</th>\n      <th>CDB_DCP_mean</th>\n      <th>CDB_TD_U_mean</th>\n      <th>CDB_F1_mean</th>\n    </tr>\n  </thead>\n  <tbody>\n    <tr>\n      <th>20</th>\n      <td>(41,3,0)</td>\n      <td>(40,2,2)</td>\n      <td>(38,2,4)</td>\n      <td>(15,4,25)</td>\n      <td>(23,4,17)</td>\n      <td>(19,5,20)</td>\n      <td>(23,4,17)</td>\n      <td>(19,3,22)</td>\n      <td>(21,4,19)</td>\n      <td>(20,3,21)</td>\n      <td>(19,8,17)</td>\n    </tr>\n    <tr>\n      <th>30</th>\n      <td>(40,3,1)</td>\n      <td>(36,3,5)</td>\n      <td>(38,2,4)</td>\n      <td>(18,5,21)</td>\n      <td>(26,5,13)</td>\n      <td>(13,6,25)</td>\n      <td>(26,4,14)</td>\n      <td>(19,7,18)</td>\n      <td>(20,4,20)</td>\n      <td>(21,5,18)</td>\n      <td>(23,6,15)</td>\n    </tr>\n    <tr>\n      <th>50</th>\n      <td>(40,3,1)</td>\n      <td>(36,2,6)</td>\n      <td>(34,2,8)</td>\n      <td>(16,4,24)</td>\n      <td>(22,4,18)</td>\n      <td>(15,6,23)</td>\n      <td>(23,4,17)</td>\n      <td>(22,4,18)</td>\n      <td>(19,4,21)</td>\n      <td>(19,5,20)</td>\n      <td>(21,5,18)</td>\n    </tr>\n    <tr>\n      <th>100</th>\n      <td>(39,3,2)</td>\n      <td>(35,2,7)</td>\n      <td>(34,4,6)</td>\n      <td>(18,3,23)</td>\n      <td>(21,3,20)</td>\n      <td>(18,5,21)</td>\n      <td>(22,4,18)</td>\n      <td>(21,5,18)</td>\n      <td>(17,3,24)</td>\n      <td>(22,3,19)</td>\n      <td>(21,8,15)</td>\n    </tr>\n    <tr>\n      <th>150</th>\n      <td>(38,3,3)</td>\n      <td>(33,2,9)</td>\n      <td>(31,5,8)</td>\n      <td>(19,4,21)</td>\n      <td>(16,6,22)</td>\n      <td>(15,7,22)</td>\n      <td>(23,5,16)</td>\n      <td>(19,5,20)</td>\n      <td>(17,6,21)</td>\n      <td>(19,6,19)</td>\n      <td>(17,6,21)</td>\n    </tr>\n    <tr>\n      <th>200</th>\n      <td>(40,3,1)</td>\n      <td>(33,2,9)</td>\n      <td>(36,2,6)</td>\n      <td>(17,5,22)</td>\n      <td>(21,5,18)</td>\n      <td>(13,6,25)</td>\n      <td>(27,4,13)</td>\n      <td>(23,7,14)</td>\n      <td>(22,4,18)</td>\n      <td>(19,6,19)</td>\n      <td>(23,4,17)</td>\n    </tr>\n  </tbody>\n</table>\n</div>"
     },
     "execution_count": 13,
     "metadata": {},
     "output_type": "execute_result"
    }
   ],
   "source": [
    "dict_to_table['CDB_LSC_mean']"
   ],
   "metadata": {
    "collapsed": false,
    "ExecuteTime": {
     "end_time": "2024-02-28T19:40:49.683101Z",
     "start_time": "2024-02-28T19:40:49.671904Z"
    }
   },
   "id": "4f4101a825f91cb6",
   "execution_count": 13
  },
  {
   "cell_type": "code",
   "outputs": [
    {
     "data": {
      "text/plain": "    Standard_Bag_mean Grouped_Bag_mean Incre_Bag_mean CDB_Host_mean  \\\n20           (41,3,0)         (39,3,2)       (36,2,6)     (13,3,28)   \n30           (39,3,2)         (38,2,4)       (36,2,6)     (16,3,25)   \n50           (41,3,0)         (37,2,5)       (33,2,9)     (13,5,26)   \n100          (39,3,2)         (35,2,7)       (32,3,9)     (14,5,25)   \n150          (39,3,2)         (35,2,7)      (29,2,13)     (12,4,28)   \n200          (41,3,0)         (34,3,7)      (32,2,10)     (10,6,28)   \n\n    CDB_kDN_mean CDB_CLD_mean CDB_LSC_mean CDB_N2_mean CDB_DCP_mean  \\\n20     (21,4,19)    (17,4,23)    (17,4,23)   (17,3,24)    (21,3,20)   \n30     (19,4,21)    (11,3,30)    (14,4,26)   (16,4,24)    (13,5,26)   \n50     (16,6,22)     (7,7,30)    (17,4,23)   (13,4,27)    (15,3,26)   \n100    (16,7,21)    (13,6,25)    (18,4,22)   (16,7,21)    (12,5,27)   \n150    (16,5,23)    (10,5,29)    (16,5,23)   (14,6,24)    (14,3,27)   \n200    (12,7,25)     (7,7,30)    (13,4,27)   (15,6,23)    (15,5,24)   \n\n    CDB_TD_U_mean CDB_F1_mean  \n20      (17,6,21)   (22,3,19)  \n30      (14,4,26)   (19,6,19)  \n50      (13,6,25)   (16,4,24)  \n100     (15,6,23)   (20,4,20)  \n150     (13,4,27)   (19,3,22)  \n200     (14,5,25)   (21,5,18)  ",
      "text/html": "<div>\n<style scoped>\n    .dataframe tbody tr th:only-of-type {\n        vertical-align: middle;\n    }\n\n    .dataframe tbody tr th {\n        vertical-align: top;\n    }\n\n    .dataframe thead th {\n        text-align: right;\n    }\n</style>\n<table border=\"1\" class=\"dataframe\">\n  <thead>\n    <tr style=\"text-align: right;\">\n      <th></th>\n      <th>Standard_Bag_mean</th>\n      <th>Grouped_Bag_mean</th>\n      <th>Incre_Bag_mean</th>\n      <th>CDB_Host_mean</th>\n      <th>CDB_kDN_mean</th>\n      <th>CDB_CLD_mean</th>\n      <th>CDB_LSC_mean</th>\n      <th>CDB_N2_mean</th>\n      <th>CDB_DCP_mean</th>\n      <th>CDB_TD_U_mean</th>\n      <th>CDB_F1_mean</th>\n    </tr>\n  </thead>\n  <tbody>\n    <tr>\n      <th>20</th>\n      <td>(41,3,0)</td>\n      <td>(39,3,2)</td>\n      <td>(36,2,6)</td>\n      <td>(13,3,28)</td>\n      <td>(21,4,19)</td>\n      <td>(17,4,23)</td>\n      <td>(17,4,23)</td>\n      <td>(17,3,24)</td>\n      <td>(21,3,20)</td>\n      <td>(17,6,21)</td>\n      <td>(22,3,19)</td>\n    </tr>\n    <tr>\n      <th>30</th>\n      <td>(39,3,2)</td>\n      <td>(38,2,4)</td>\n      <td>(36,2,6)</td>\n      <td>(16,3,25)</td>\n      <td>(19,4,21)</td>\n      <td>(11,3,30)</td>\n      <td>(14,4,26)</td>\n      <td>(16,4,24)</td>\n      <td>(13,5,26)</td>\n      <td>(14,4,26)</td>\n      <td>(19,6,19)</td>\n    </tr>\n    <tr>\n      <th>50</th>\n      <td>(41,3,0)</td>\n      <td>(37,2,5)</td>\n      <td>(33,2,9)</td>\n      <td>(13,5,26)</td>\n      <td>(16,6,22)</td>\n      <td>(7,7,30)</td>\n      <td>(17,4,23)</td>\n      <td>(13,4,27)</td>\n      <td>(15,3,26)</td>\n      <td>(13,6,25)</td>\n      <td>(16,4,24)</td>\n    </tr>\n    <tr>\n      <th>100</th>\n      <td>(39,3,2)</td>\n      <td>(35,2,7)</td>\n      <td>(32,3,9)</td>\n      <td>(14,5,25)</td>\n      <td>(16,7,21)</td>\n      <td>(13,6,25)</td>\n      <td>(18,4,22)</td>\n      <td>(16,7,21)</td>\n      <td>(12,5,27)</td>\n      <td>(15,6,23)</td>\n      <td>(20,4,20)</td>\n    </tr>\n    <tr>\n      <th>150</th>\n      <td>(39,3,2)</td>\n      <td>(35,2,7)</td>\n      <td>(29,2,13)</td>\n      <td>(12,4,28)</td>\n      <td>(16,5,23)</td>\n      <td>(10,5,29)</td>\n      <td>(16,5,23)</td>\n      <td>(14,6,24)</td>\n      <td>(14,3,27)</td>\n      <td>(13,4,27)</td>\n      <td>(19,3,22)</td>\n    </tr>\n    <tr>\n      <th>200</th>\n      <td>(41,3,0)</td>\n      <td>(34,3,7)</td>\n      <td>(32,2,10)</td>\n      <td>(10,6,28)</td>\n      <td>(12,7,25)</td>\n      <td>(7,7,30)</td>\n      <td>(13,4,27)</td>\n      <td>(15,6,23)</td>\n      <td>(15,5,24)</td>\n      <td>(14,5,25)</td>\n      <td>(21,5,18)</td>\n    </tr>\n  </tbody>\n</table>\n</div>"
     },
     "execution_count": 14,
     "metadata": {},
     "output_type": "execute_result"
    }
   ],
   "source": [
    "dict_to_table['CDB_N1_mean']"
   ],
   "metadata": {
    "collapsed": false,
    "ExecuteTime": {
     "end_time": "2024-02-28T19:40:51.804397Z",
     "start_time": "2024-02-28T19:40:51.794196Z"
    }
   },
   "id": "94f240cbe359a085",
   "execution_count": 14
  },
  {
   "cell_type": "code",
   "outputs": [
    {
     "data": {
      "text/plain": "    Standard_Bag_mean Grouped_Bag_mean Incre_Bag_mean CDB_Host_mean  \\\n20           (41,3,0)         (39,2,3)       (39,2,3)     (24,3,17)   \n30           (37,3,4)         (38,2,4)       (37,2,5)     (17,3,24)   \n50           (41,3,0)         (37,2,5)       (34,2,8)     (15,5,24)   \n100          (38,3,3)         (36,2,6)       (33,2,9)     (16,6,22)   \n150          (40,3,1)         (37,2,5)       (33,2,9)     (19,7,18)   \n200          (39,4,1)         (37,2,5)       (37,2,5)     (15,4,25)   \n\n    CDB_kDN_mean CDB_CLD_mean CDB_LSC_mean CDB_N1_mean CDB_DCP_mean  \\\n20     (22,6,16)    (17,7,20)    (22,3,19)   (24,3,17)    (23,3,18)   \n30     (20,5,19)    (14,5,25)    (18,7,19)   (24,4,16)    (18,3,23)   \n50     (19,4,21)    (16,4,24)    (18,4,22)   (27,4,13)    (18,4,22)   \n100    (21,3,20)    (14,9,21)    (18,5,21)   (21,7,16)    (14,5,25)   \n150    (22,5,17)    (17,4,23)    (20,5,19)   (24,6,14)    (16,7,21)   \n200    (19,5,20)    (16,5,23)    (14,7,23)   (23,6,15)    (18,3,23)   \n\n    CDB_TD_U_mean CDB_F1_mean  \n20      (24,3,17)   (20,4,20)  \n30      (21,3,20)   (24,4,16)  \n50      (21,4,19)   (24,5,15)  \n100     (21,5,18)   (21,5,18)  \n150     (21,6,17)   (22,4,18)  \n200     (22,5,17)   (22,5,17)  ",
      "text/html": "<div>\n<style scoped>\n    .dataframe tbody tr th:only-of-type {\n        vertical-align: middle;\n    }\n\n    .dataframe tbody tr th {\n        vertical-align: top;\n    }\n\n    .dataframe thead th {\n        text-align: right;\n    }\n</style>\n<table border=\"1\" class=\"dataframe\">\n  <thead>\n    <tr style=\"text-align: right;\">\n      <th></th>\n      <th>Standard_Bag_mean</th>\n      <th>Grouped_Bag_mean</th>\n      <th>Incre_Bag_mean</th>\n      <th>CDB_Host_mean</th>\n      <th>CDB_kDN_mean</th>\n      <th>CDB_CLD_mean</th>\n      <th>CDB_LSC_mean</th>\n      <th>CDB_N1_mean</th>\n      <th>CDB_DCP_mean</th>\n      <th>CDB_TD_U_mean</th>\n      <th>CDB_F1_mean</th>\n    </tr>\n  </thead>\n  <tbody>\n    <tr>\n      <th>20</th>\n      <td>(41,3,0)</td>\n      <td>(39,2,3)</td>\n      <td>(39,2,3)</td>\n      <td>(24,3,17)</td>\n      <td>(22,6,16)</td>\n      <td>(17,7,20)</td>\n      <td>(22,3,19)</td>\n      <td>(24,3,17)</td>\n      <td>(23,3,18)</td>\n      <td>(24,3,17)</td>\n      <td>(20,4,20)</td>\n    </tr>\n    <tr>\n      <th>30</th>\n      <td>(37,3,4)</td>\n      <td>(38,2,4)</td>\n      <td>(37,2,5)</td>\n      <td>(17,3,24)</td>\n      <td>(20,5,19)</td>\n      <td>(14,5,25)</td>\n      <td>(18,7,19)</td>\n      <td>(24,4,16)</td>\n      <td>(18,3,23)</td>\n      <td>(21,3,20)</td>\n      <td>(24,4,16)</td>\n    </tr>\n    <tr>\n      <th>50</th>\n      <td>(41,3,0)</td>\n      <td>(37,2,5)</td>\n      <td>(34,2,8)</td>\n      <td>(15,5,24)</td>\n      <td>(19,4,21)</td>\n      <td>(16,4,24)</td>\n      <td>(18,4,22)</td>\n      <td>(27,4,13)</td>\n      <td>(18,4,22)</td>\n      <td>(21,4,19)</td>\n      <td>(24,5,15)</td>\n    </tr>\n    <tr>\n      <th>100</th>\n      <td>(38,3,3)</td>\n      <td>(36,2,6)</td>\n      <td>(33,2,9)</td>\n      <td>(16,6,22)</td>\n      <td>(21,3,20)</td>\n      <td>(14,9,21)</td>\n      <td>(18,5,21)</td>\n      <td>(21,7,16)</td>\n      <td>(14,5,25)</td>\n      <td>(21,5,18)</td>\n      <td>(21,5,18)</td>\n    </tr>\n    <tr>\n      <th>150</th>\n      <td>(40,3,1)</td>\n      <td>(37,2,5)</td>\n      <td>(33,2,9)</td>\n      <td>(19,7,18)</td>\n      <td>(22,5,17)</td>\n      <td>(17,4,23)</td>\n      <td>(20,5,19)</td>\n      <td>(24,6,14)</td>\n      <td>(16,7,21)</td>\n      <td>(21,6,17)</td>\n      <td>(22,4,18)</td>\n    </tr>\n    <tr>\n      <th>200</th>\n      <td>(39,4,1)</td>\n      <td>(37,2,5)</td>\n      <td>(37,2,5)</td>\n      <td>(15,4,25)</td>\n      <td>(19,5,20)</td>\n      <td>(16,5,23)</td>\n      <td>(14,7,23)</td>\n      <td>(23,6,15)</td>\n      <td>(18,3,23)</td>\n      <td>(22,5,17)</td>\n      <td>(22,5,17)</td>\n    </tr>\n  </tbody>\n</table>\n</div>"
     },
     "execution_count": 15,
     "metadata": {},
     "output_type": "execute_result"
    }
   ],
   "source": [
    "dict_to_table['CDB_N2_mean']"
   ],
   "metadata": {
    "collapsed": false,
    "ExecuteTime": {
     "end_time": "2024-02-28T19:40:54.050188Z",
     "start_time": "2024-02-28T19:40:54.043331Z"
    }
   },
   "id": "7c97f397882a2779",
   "execution_count": 15
  },
  {
   "cell_type": "code",
   "outputs": [
    {
     "data": {
      "text/plain": "    Standard_Bag_mean Grouped_Bag_mean Incre_Bag_mean CDB_Host_mean  \\\n20           (41,3,0)         (37,2,5)       (34,2,8)     (20,4,20)   \n30           (40,3,1)         (37,2,5)       (38,2,4)     (18,5,21)   \n50           (41,3,0)         (39,2,3)       (36,2,6)     (17,6,21)   \n100          (39,3,2)         (35,2,7)       (33,2,9)     (23,4,17)   \n150          (40,3,1)         (35,2,7)       (32,3,9)     (24,4,16)   \n200          (39,4,1)        (32,2,10)       (34,2,8)     (16,4,24)   \n\n    CDB_kDN_mean CDB_CLD_mean CDB_LSC_mean CDB_N1_mean CDB_N2_mean  \\\n20     (20,3,21)    (18,5,21)    (19,4,21)   (20,3,21)   (18,3,23)   \n30     (27,6,11)    (18,6,20)    (20,4,20)   (26,5,13)   (23,3,18)   \n50     (22,3,19)    (17,4,23)    (21,4,19)   (26,3,15)   (22,4,18)   \n100    (24,3,17)    (19,4,21)    (24,3,17)   (27,5,12)   (25,5,14)   \n150    (20,7,17)    (18,6,20)    (21,6,17)   (27,3,14)   (21,7,16)   \n200    (20,6,18)    (15,5,24)    (18,4,22)   (24,5,15)   (23,3,18)   \n\n    CDB_TD_U_mean CDB_F1_mean  \n20      (19,4,21)   (17,5,22)  \n30      (20,5,19)   (22,6,16)  \n50      (21,4,19)   (22,6,16)  \n100     (25,5,14)   (22,6,16)  \n150     (23,5,16)   (17,9,18)  \n200     (16,3,25)   (19,5,20)  ",
      "text/html": "<div>\n<style scoped>\n    .dataframe tbody tr th:only-of-type {\n        vertical-align: middle;\n    }\n\n    .dataframe tbody tr th {\n        vertical-align: top;\n    }\n\n    .dataframe thead th {\n        text-align: right;\n    }\n</style>\n<table border=\"1\" class=\"dataframe\">\n  <thead>\n    <tr style=\"text-align: right;\">\n      <th></th>\n      <th>Standard_Bag_mean</th>\n      <th>Grouped_Bag_mean</th>\n      <th>Incre_Bag_mean</th>\n      <th>CDB_Host_mean</th>\n      <th>CDB_kDN_mean</th>\n      <th>CDB_CLD_mean</th>\n      <th>CDB_LSC_mean</th>\n      <th>CDB_N1_mean</th>\n      <th>CDB_N2_mean</th>\n      <th>CDB_TD_U_mean</th>\n      <th>CDB_F1_mean</th>\n    </tr>\n  </thead>\n  <tbody>\n    <tr>\n      <th>20</th>\n      <td>(41,3,0)</td>\n      <td>(37,2,5)</td>\n      <td>(34,2,8)</td>\n      <td>(20,4,20)</td>\n      <td>(20,3,21)</td>\n      <td>(18,5,21)</td>\n      <td>(19,4,21)</td>\n      <td>(20,3,21)</td>\n      <td>(18,3,23)</td>\n      <td>(19,4,21)</td>\n      <td>(17,5,22)</td>\n    </tr>\n    <tr>\n      <th>30</th>\n      <td>(40,3,1)</td>\n      <td>(37,2,5)</td>\n      <td>(38,2,4)</td>\n      <td>(18,5,21)</td>\n      <td>(27,6,11)</td>\n      <td>(18,6,20)</td>\n      <td>(20,4,20)</td>\n      <td>(26,5,13)</td>\n      <td>(23,3,18)</td>\n      <td>(20,5,19)</td>\n      <td>(22,6,16)</td>\n    </tr>\n    <tr>\n      <th>50</th>\n      <td>(41,3,0)</td>\n      <td>(39,2,3)</td>\n      <td>(36,2,6)</td>\n      <td>(17,6,21)</td>\n      <td>(22,3,19)</td>\n      <td>(17,4,23)</td>\n      <td>(21,4,19)</td>\n      <td>(26,3,15)</td>\n      <td>(22,4,18)</td>\n      <td>(21,4,19)</td>\n      <td>(22,6,16)</td>\n    </tr>\n    <tr>\n      <th>100</th>\n      <td>(39,3,2)</td>\n      <td>(35,2,7)</td>\n      <td>(33,2,9)</td>\n      <td>(23,4,17)</td>\n      <td>(24,3,17)</td>\n      <td>(19,4,21)</td>\n      <td>(24,3,17)</td>\n      <td>(27,5,12)</td>\n      <td>(25,5,14)</td>\n      <td>(25,5,14)</td>\n      <td>(22,6,16)</td>\n    </tr>\n    <tr>\n      <th>150</th>\n      <td>(40,3,1)</td>\n      <td>(35,2,7)</td>\n      <td>(32,3,9)</td>\n      <td>(24,4,16)</td>\n      <td>(20,7,17)</td>\n      <td>(18,6,20)</td>\n      <td>(21,6,17)</td>\n      <td>(27,3,14)</td>\n      <td>(21,7,16)</td>\n      <td>(23,5,16)</td>\n      <td>(17,9,18)</td>\n    </tr>\n    <tr>\n      <th>200</th>\n      <td>(39,4,1)</td>\n      <td>(32,2,10)</td>\n      <td>(34,2,8)</td>\n      <td>(16,4,24)</td>\n      <td>(20,6,18)</td>\n      <td>(15,5,24)</td>\n      <td>(18,4,22)</td>\n      <td>(24,5,15)</td>\n      <td>(23,3,18)</td>\n      <td>(16,3,25)</td>\n      <td>(19,5,20)</td>\n    </tr>\n  </tbody>\n</table>\n</div>"
     },
     "execution_count": 16,
     "metadata": {},
     "output_type": "execute_result"
    }
   ],
   "source": [
    "dict_to_table['CDB_DCP_mean']"
   ],
   "metadata": {
    "collapsed": false,
    "ExecuteTime": {
     "end_time": "2024-02-28T19:40:56.174174Z",
     "start_time": "2024-02-28T19:40:56.163766Z"
    }
   },
   "id": "c950543bbf705875",
   "execution_count": 16
  },
  {
   "cell_type": "code",
   "outputs": [
    {
     "data": {
      "text/plain": "    Standard_Bag_mean Grouped_Bag_mean Incre_Bag_mean CDB_Host_mean  \\\n20           (41,3,0)         (40,2,2)       (41,2,1)     (16,4,24)   \n30           (40,3,1)         (39,2,3)       (35,2,7)     (16,6,22)   \n50           (41,3,0)         (38,2,4)       (37,2,5)     (18,5,21)   \n100          (40,4,0)         (36,2,6)       (32,4,8)     (21,3,20)   \n150          (39,4,1)         (36,2,6)       (35,3,6)     (17,6,21)   \n200          (40,3,1)         (36,2,6)       (34,2,8)     (17,6,21)   \n\n    CDB_kDN_mean CDB_CLD_mean CDB_LSC_mean CDB_N1_mean CDB_N2_mean  \\\n20     (20,6,18)    (16,3,25)    (21,3,20)   (21,6,17)   (17,3,24)   \n30     (23,4,17)    (14,4,26)    (18,5,21)   (26,4,14)   (20,3,21)   \n50     (20,3,21)    (13,6,25)    (20,5,19)   (25,6,13)   (19,4,21)   \n100    (21,5,18)    (16,5,23)    (19,3,22)   (23,6,15)   (18,5,21)   \n150    (18,5,21)    (14,4,26)    (19,6,19)   (27,4,13)   (17,6,21)   \n200    (18,5,21)    (15,6,23)    (19,6,19)   (25,5,14)   (17,5,22)   \n\n    CDB_DCP_mean CDB_F1_mean  \n20     (21,4,19)   (22,6,16)  \n30     (19,5,20)   (20,6,18)  \n50     (19,4,21)   (25,6,13)  \n100    (14,5,25)   (25,3,16)  \n150    (16,5,23)   (18,5,21)  \n200    (25,3,16)   (23,4,17)  ",
      "text/html": "<div>\n<style scoped>\n    .dataframe tbody tr th:only-of-type {\n        vertical-align: middle;\n    }\n\n    .dataframe tbody tr th {\n        vertical-align: top;\n    }\n\n    .dataframe thead th {\n        text-align: right;\n    }\n</style>\n<table border=\"1\" class=\"dataframe\">\n  <thead>\n    <tr style=\"text-align: right;\">\n      <th></th>\n      <th>Standard_Bag_mean</th>\n      <th>Grouped_Bag_mean</th>\n      <th>Incre_Bag_mean</th>\n      <th>CDB_Host_mean</th>\n      <th>CDB_kDN_mean</th>\n      <th>CDB_CLD_mean</th>\n      <th>CDB_LSC_mean</th>\n      <th>CDB_N1_mean</th>\n      <th>CDB_N2_mean</th>\n      <th>CDB_DCP_mean</th>\n      <th>CDB_F1_mean</th>\n    </tr>\n  </thead>\n  <tbody>\n    <tr>\n      <th>20</th>\n      <td>(41,3,0)</td>\n      <td>(40,2,2)</td>\n      <td>(41,2,1)</td>\n      <td>(16,4,24)</td>\n      <td>(20,6,18)</td>\n      <td>(16,3,25)</td>\n      <td>(21,3,20)</td>\n      <td>(21,6,17)</td>\n      <td>(17,3,24)</td>\n      <td>(21,4,19)</td>\n      <td>(22,6,16)</td>\n    </tr>\n    <tr>\n      <th>30</th>\n      <td>(40,3,1)</td>\n      <td>(39,2,3)</td>\n      <td>(35,2,7)</td>\n      <td>(16,6,22)</td>\n      <td>(23,4,17)</td>\n      <td>(14,4,26)</td>\n      <td>(18,5,21)</td>\n      <td>(26,4,14)</td>\n      <td>(20,3,21)</td>\n      <td>(19,5,20)</td>\n      <td>(20,6,18)</td>\n    </tr>\n    <tr>\n      <th>50</th>\n      <td>(41,3,0)</td>\n      <td>(38,2,4)</td>\n      <td>(37,2,5)</td>\n      <td>(18,5,21)</td>\n      <td>(20,3,21)</td>\n      <td>(13,6,25)</td>\n      <td>(20,5,19)</td>\n      <td>(25,6,13)</td>\n      <td>(19,4,21)</td>\n      <td>(19,4,21)</td>\n      <td>(25,6,13)</td>\n    </tr>\n    <tr>\n      <th>100</th>\n      <td>(40,4,0)</td>\n      <td>(36,2,6)</td>\n      <td>(32,4,8)</td>\n      <td>(21,3,20)</td>\n      <td>(21,5,18)</td>\n      <td>(16,5,23)</td>\n      <td>(19,3,22)</td>\n      <td>(23,6,15)</td>\n      <td>(18,5,21)</td>\n      <td>(14,5,25)</td>\n      <td>(25,3,16)</td>\n    </tr>\n    <tr>\n      <th>150</th>\n      <td>(39,4,1)</td>\n      <td>(36,2,6)</td>\n      <td>(35,3,6)</td>\n      <td>(17,6,21)</td>\n      <td>(18,5,21)</td>\n      <td>(14,4,26)</td>\n      <td>(19,6,19)</td>\n      <td>(27,4,13)</td>\n      <td>(17,6,21)</td>\n      <td>(16,5,23)</td>\n      <td>(18,5,21)</td>\n    </tr>\n    <tr>\n      <th>200</th>\n      <td>(40,3,1)</td>\n      <td>(36,2,6)</td>\n      <td>(34,2,8)</td>\n      <td>(17,6,21)</td>\n      <td>(18,5,21)</td>\n      <td>(15,6,23)</td>\n      <td>(19,6,19)</td>\n      <td>(25,5,14)</td>\n      <td>(17,5,22)</td>\n      <td>(25,3,16)</td>\n      <td>(23,4,17)</td>\n    </tr>\n  </tbody>\n</table>\n</div>"
     },
     "execution_count": 17,
     "metadata": {},
     "output_type": "execute_result"
    }
   ],
   "source": [
    "dict_to_table['CDB_TD_U_mean']"
   ],
   "metadata": {
    "collapsed": false,
    "ExecuteTime": {
     "end_time": "2024-02-28T19:40:59.264579Z",
     "start_time": "2024-02-28T19:40:59.254447Z"
    }
   },
   "id": "f8bdda24e7afd705",
   "execution_count": 17
  },
  {
   "cell_type": "code",
   "outputs": [
    {
     "data": {
      "text/plain": "    Standard_Bag_mean Grouped_Bag_mean Incre_Bag_mean CDB_Host_mean  \\\n20           (41,3,0)         (41,2,1)       (35,3,6)     (20,3,21)   \n30           (40,3,1)         (39,2,3)       (38,2,4)     (17,4,23)   \n50           (41,3,0)         (37,2,5)       (35,2,7)     (15,5,24)   \n100          (39,3,2)         (35,3,6)       (33,2,9)     (17,4,23)   \n150          (38,4,2)         (37,2,5)       (33,2,9)     (17,7,20)   \n200          (40,3,1)         (32,4,8)       (34,4,6)     (15,7,22)   \n\n    CDB_kDN_mean CDB_CLD_mean CDB_LSC_mean CDB_N1_mean CDB_N2_mean  \\\n20     (22,5,17)    (19,3,22)    (17,8,19)   (19,3,22)   (20,4,20)   \n30     (21,4,19)    (14,5,25)    (15,6,23)   (19,6,19)   (16,4,24)   \n50     (20,5,19)    (14,8,22)    (18,5,21)   (24,4,16)   (15,5,24)   \n100    (19,5,20)    (14,5,25)    (15,8,21)   (20,4,20)   (18,5,21)   \n150    (18,8,18)    (13,6,25)    (21,6,17)   (22,3,19)   (18,4,22)   \n200    (17,4,23)    (12,5,27)    (17,4,23)   (18,5,21)   (17,5,22)   \n\n    CDB_DCP_mean CDB_TD_U_mean  \n20     (22,5,17)     (16,6,22)  \n30     (16,6,22)     (18,6,20)  \n50     (16,6,22)     (13,6,25)  \n100    (16,6,22)     (16,3,25)  \n150    (18,9,17)     (21,5,18)  \n200    (20,5,19)     (17,4,23)  ",
      "text/html": "<div>\n<style scoped>\n    .dataframe tbody tr th:only-of-type {\n        vertical-align: middle;\n    }\n\n    .dataframe tbody tr th {\n        vertical-align: top;\n    }\n\n    .dataframe thead th {\n        text-align: right;\n    }\n</style>\n<table border=\"1\" class=\"dataframe\">\n  <thead>\n    <tr style=\"text-align: right;\">\n      <th></th>\n      <th>Standard_Bag_mean</th>\n      <th>Grouped_Bag_mean</th>\n      <th>Incre_Bag_mean</th>\n      <th>CDB_Host_mean</th>\n      <th>CDB_kDN_mean</th>\n      <th>CDB_CLD_mean</th>\n      <th>CDB_LSC_mean</th>\n      <th>CDB_N1_mean</th>\n      <th>CDB_N2_mean</th>\n      <th>CDB_DCP_mean</th>\n      <th>CDB_TD_U_mean</th>\n    </tr>\n  </thead>\n  <tbody>\n    <tr>\n      <th>20</th>\n      <td>(41,3,0)</td>\n      <td>(41,2,1)</td>\n      <td>(35,3,6)</td>\n      <td>(20,3,21)</td>\n      <td>(22,5,17)</td>\n      <td>(19,3,22)</td>\n      <td>(17,8,19)</td>\n      <td>(19,3,22)</td>\n      <td>(20,4,20)</td>\n      <td>(22,5,17)</td>\n      <td>(16,6,22)</td>\n    </tr>\n    <tr>\n      <th>30</th>\n      <td>(40,3,1)</td>\n      <td>(39,2,3)</td>\n      <td>(38,2,4)</td>\n      <td>(17,4,23)</td>\n      <td>(21,4,19)</td>\n      <td>(14,5,25)</td>\n      <td>(15,6,23)</td>\n      <td>(19,6,19)</td>\n      <td>(16,4,24)</td>\n      <td>(16,6,22)</td>\n      <td>(18,6,20)</td>\n    </tr>\n    <tr>\n      <th>50</th>\n      <td>(41,3,0)</td>\n      <td>(37,2,5)</td>\n      <td>(35,2,7)</td>\n      <td>(15,5,24)</td>\n      <td>(20,5,19)</td>\n      <td>(14,8,22)</td>\n      <td>(18,5,21)</td>\n      <td>(24,4,16)</td>\n      <td>(15,5,24)</td>\n      <td>(16,6,22)</td>\n      <td>(13,6,25)</td>\n    </tr>\n    <tr>\n      <th>100</th>\n      <td>(39,3,2)</td>\n      <td>(35,3,6)</td>\n      <td>(33,2,9)</td>\n      <td>(17,4,23)</td>\n      <td>(19,5,20)</td>\n      <td>(14,5,25)</td>\n      <td>(15,8,21)</td>\n      <td>(20,4,20)</td>\n      <td>(18,5,21)</td>\n      <td>(16,6,22)</td>\n      <td>(16,3,25)</td>\n    </tr>\n    <tr>\n      <th>150</th>\n      <td>(38,4,2)</td>\n      <td>(37,2,5)</td>\n      <td>(33,2,9)</td>\n      <td>(17,7,20)</td>\n      <td>(18,8,18)</td>\n      <td>(13,6,25)</td>\n      <td>(21,6,17)</td>\n      <td>(22,3,19)</td>\n      <td>(18,4,22)</td>\n      <td>(18,9,17)</td>\n      <td>(21,5,18)</td>\n    </tr>\n    <tr>\n      <th>200</th>\n      <td>(40,3,1)</td>\n      <td>(32,4,8)</td>\n      <td>(34,4,6)</td>\n      <td>(15,7,22)</td>\n      <td>(17,4,23)</td>\n      <td>(12,5,27)</td>\n      <td>(17,4,23)</td>\n      <td>(18,5,21)</td>\n      <td>(17,5,22)</td>\n      <td>(20,5,19)</td>\n      <td>(17,4,23)</td>\n    </tr>\n  </tbody>\n</table>\n</div>"
     },
     "execution_count": 18,
     "metadata": {},
     "output_type": "execute_result"
    }
   ],
   "source": [
    "dict_to_table['CDB_F1_mean']"
   ],
   "metadata": {
    "collapsed": false,
    "ExecuteTime": {
     "end_time": "2024-02-28T19:41:01.556766Z",
     "start_time": "2024-02-28T19:41:01.548408Z"
    }
   },
   "id": "84fad9c3379a1595",
   "execution_count": 18
  },
  {
   "cell_type": "raw",
   "source": [
    "As the ensemble size increases, the quantity of times CDB losses also increases, it could be due to overfitting."
   ],
   "metadata": {
    "collapsed": false
   },
   "id": "cb9ef2608da4934a"
  }
 ],
 "metadata": {
  "kernelspec": {
   "display_name": "Python 3",
   "language": "python",
   "name": "python3"
  },
  "language_info": {
   "codemirror_mode": {
    "name": "ipython",
    "version": 2
   },
   "file_extension": ".py",
   "mimetype": "text/x-python",
   "name": "python",
   "nbconvert_exporter": "python",
   "pygments_lexer": "ipython2",
   "version": "2.7.6"
  }
 },
 "nbformat": 4,
 "nbformat_minor": 5
}
